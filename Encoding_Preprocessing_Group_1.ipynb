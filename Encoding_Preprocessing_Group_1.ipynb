{
 "cells": [
  {
   "cell_type": "markdown",
   "metadata": {
    "id": "GgJg1Y3wgFY7"
   },
   "source": [
    "### Import library ne'ebe nessesariu"
   ]
  },
  {
   "cell_type": "code",
   "execution_count": 1,
   "metadata": {
    "id": "80wSFpN7fB7M"
   },
   "outputs": [],
   "source": [
    "# Importing all the necessary libraries\n",
    "from matplotlib import pyplot as plt\n",
    "import numpy as np\n",
    "import pandas as pd\n",
    "import seaborn as sns"
   ]
  },
  {
   "cell_type": "markdown",
   "metadata": {
    "id": "aM4vSpwJezYz"
   },
   "source": [
    "Primeiru koko atu lee dadus CSV"
   ]
  },
  {
   "cell_type": "code",
   "execution_count": 2,
   "metadata": {
    "id": "7FTM9qyaelOf"
   },
   "outputs": [],
   "source": [
    "df = pd.read_csv(\"Survey Prestasaun Estudante Eng Informatika ba Dixiplina Balun.csv\")"
   ]
  },
  {
   "cell_type": "markdown",
   "metadata": {
    "id": "pc3NzW7nf_VQ"
   },
   "source": [
    "### Lee Dadus"
   ]
  },
  {
   "cell_type": "code",
   "execution_count": 3,
   "metadata": {
    "colab": {
     "base_uri": "https://localhost:8080/",
     "height": 473
    },
    "id": "2wkOZgGlf7Lj",
    "outputId": "5276175a-607a-4805-a502-14a0b618705a"
   },
   "outputs": [
    {
     "data": {
      "text/html": [
       "<div>\n",
       "<style scoped>\n",
       "    .dataframe tbody tr th:only-of-type {\n",
       "        vertical-align: middle;\n",
       "    }\n",
       "\n",
       "    .dataframe tbody tr th {\n",
       "        vertical-align: top;\n",
       "    }\n",
       "\n",
       "    .dataframe thead th {\n",
       "        text-align: right;\n",
       "    }\n",
       "</style>\n",
       "<table border=\"1\" class=\"dataframe\">\n",
       "  <thead>\n",
       "    <tr style=\"text-align: right;\">\n",
       "      <th></th>\n",
       "      <th>Naran_Enumerador</th>\n",
       "      <th>Naran</th>\n",
       "      <th>NRE</th>\n",
       "      <th>Sexo</th>\n",
       "      <th>Turma</th>\n",
       "      <th>Hela_Fatin</th>\n",
       "      <th>Eskola_anterior</th>\n",
       "      <th>Edukasaun_Inan</th>\n",
       "      <th>Edukasaun_Aman</th>\n",
       "      <th>Profisaun_Inan</th>\n",
       "      <th>...</th>\n",
       "      <th>Aktividade_Extra</th>\n",
       "      <th>Transporte</th>\n",
       "      <th>Laptop</th>\n",
       "      <th>Rede_Internet</th>\n",
       "      <th>Fatin_estuda</th>\n",
       "      <th>Ambiente</th>\n",
       "      <th>Akompanha</th>\n",
       "      <th>Hela_Iha</th>\n",
       "      <th>Valor_IP</th>\n",
       "      <th>Valor_SO</th>\n",
       "    </tr>\n",
       "  </thead>\n",
       "  <tbody>\n",
       "    <tr>\n",
       "      <th>0</th>\n",
       "      <td>Marcelino R Neves</td>\n",
       "      <td>Eurico Rosario Maria</td>\n",
       "      <td>20200204022</td>\n",
       "      <td>mane</td>\n",
       "      <td>a</td>\n",
       "      <td>RUFECT-Hera</td>\n",
       "      <td>pri</td>\n",
       "      <td>pri</td>\n",
       "      <td>pri</td>\n",
       "      <td>dc</td>\n",
       "      <td>...</td>\n",
       "      <td>laiha</td>\n",
       "      <td>tp</td>\n",
       "      <td>iha</td>\n",
       "      <td>diak</td>\n",
       "      <td>iha</td>\n",
       "      <td>ajuda_tebes</td>\n",
       "      <td>mesak</td>\n",
       "      <td>aluga_kos</td>\n",
       "      <td>7.8</td>\n",
       "      <td>8.3</td>\n",
       "    </tr>\n",
       "    <tr>\n",
       "      <th>1</th>\n",
       "      <td>Marcelino R Neves</td>\n",
       "      <td>Alvarino Soares Guterres</td>\n",
       "      <td>20200204003</td>\n",
       "      <td>mane</td>\n",
       "      <td>a</td>\n",
       "      <td>Dili</td>\n",
       "      <td>pri</td>\n",
       "      <td>lae</td>\n",
       "      <td>s1</td>\n",
       "      <td>dc</td>\n",
       "      <td>...</td>\n",
       "      <td>NaN</td>\n",
       "      <td>motor</td>\n",
       "      <td>iha</td>\n",
       "      <td>diak</td>\n",
       "      <td>iha</td>\n",
       "      <td>ajuda_tebes</td>\n",
       "      <td>inan_aman</td>\n",
       "      <td>uma_rasik</td>\n",
       "      <td>7.5</td>\n",
       "      <td>5.5</td>\n",
       "    </tr>\n",
       "    <tr>\n",
       "      <th>2</th>\n",
       "      <td>Marcelino R Neves</td>\n",
       "      <td>Pedro M. A. Abel Soares</td>\n",
       "      <td>20200204070</td>\n",
       "      <td>mane</td>\n",
       "      <td>b</td>\n",
       "      <td>Dili</td>\n",
       "      <td>mis</td>\n",
       "      <td>s1</td>\n",
       "      <td>s1</td>\n",
       "      <td>dc</td>\n",
       "      <td>...</td>\n",
       "      <td>iha</td>\n",
       "      <td>kareta</td>\n",
       "      <td>iha</td>\n",
       "      <td>diak</td>\n",
       "      <td>iha</td>\n",
       "      <td>ajuda_tebes</td>\n",
       "      <td>inan_aman</td>\n",
       "      <td>uma_rasik</td>\n",
       "      <td>7.2</td>\n",
       "      <td>9.6</td>\n",
       "    </tr>\n",
       "    <tr>\n",
       "      <th>3</th>\n",
       "      <td>Marcelino R Neves</td>\n",
       "      <td>Marcelino R Neves</td>\n",
       "      <td>20200204054</td>\n",
       "      <td>mane</td>\n",
       "      <td>b</td>\n",
       "      <td>RUFECT-Hera</td>\n",
       "      <td>pub</td>\n",
       "      <td>pre_sec</td>\n",
       "      <td>sec</td>\n",
       "      <td>dc</td>\n",
       "      <td>...</td>\n",
       "      <td>iha</td>\n",
       "      <td>tp</td>\n",
       "      <td>iha</td>\n",
       "      <td>diak</td>\n",
       "      <td>iha</td>\n",
       "      <td>ajuda_tebes</td>\n",
       "      <td>maun_bin</td>\n",
       "      <td>uma_rasik</td>\n",
       "      <td>7.8</td>\n",
       "      <td>8.5</td>\n",
       "    </tr>\n",
       "    <tr>\n",
       "      <th>4</th>\n",
       "      <td>Joao Soares</td>\n",
       "      <td>Jose Norberto da silva ximenes</td>\n",
       "      <td>20200204047</td>\n",
       "      <td>mane</td>\n",
       "      <td>b</td>\n",
       "      <td>Beto</td>\n",
       "      <td>pub</td>\n",
       "      <td>pre_sec</td>\n",
       "      <td>pre_sec</td>\n",
       "      <td>dc</td>\n",
       "      <td>...</td>\n",
       "      <td>laiha</td>\n",
       "      <td>tp</td>\n",
       "      <td>iha</td>\n",
       "      <td>ladun_diak</td>\n",
       "      <td>laiha</td>\n",
       "      <td>ladun_ajuda</td>\n",
       "      <td>familia_seluk</td>\n",
       "      <td>familia_sira_nian_uma</td>\n",
       "      <td>7.5</td>\n",
       "      <td>6.9</td>\n",
       "    </tr>\n",
       "  </tbody>\n",
       "</table>\n",
       "<p>5 rows × 21 columns</p>\n",
       "</div>"
      ],
      "text/plain": [
       "    Naran_Enumerador                           Naran          NRE  Sexo Turma  \\\n",
       "0  Marcelino R Neves            Eurico Rosario Maria  20200204022  mane     a   \n",
       "1  Marcelino R Neves        Alvarino Soares Guterres  20200204003  mane     a   \n",
       "2  Marcelino R Neves         Pedro M. A. Abel Soares  20200204070  mane     b   \n",
       "3  Marcelino R Neves               Marcelino R Neves  20200204054  mane     b   \n",
       "4        Joao Soares  Jose Norberto da silva ximenes  20200204047  mane     b   \n",
       "\n",
       "    Hela_Fatin Eskola_anterior Edukasaun_Inan Edukasaun_Aman Profisaun_Inan  \\\n",
       "0  RUFECT-Hera             pri            pri            pri             dc   \n",
       "1         Dili             pri            lae             s1             dc   \n",
       "2         Dili             mis             s1             s1             dc   \n",
       "3  RUFECT-Hera             pub        pre_sec            sec             dc   \n",
       "4         Beto             pub        pre_sec        pre_sec             dc   \n",
       "\n",
       "   ... Aktividade_Extra Transporte Laptop Rede_Internet Fatin_estuda  \\\n",
       "0  ...            laiha         tp    iha          diak          iha   \n",
       "1  ...              NaN      motor    iha          diak          iha   \n",
       "2  ...              iha     kareta    iha          diak          iha   \n",
       "3  ...              iha         tp    iha          diak          iha   \n",
       "4  ...            laiha         tp    iha    ladun_diak        laiha   \n",
       "\n",
       "      Ambiente      Akompanha               Hela_Iha Valor_IP  Valor_SO  \n",
       "0  ajuda_tebes          mesak              aluga_kos      7.8       8.3  \n",
       "1  ajuda_tebes      inan_aman              uma_rasik      7.5       5.5  \n",
       "2  ajuda_tebes      inan_aman              uma_rasik      7.2       9.6  \n",
       "3  ajuda_tebes       maun_bin              uma_rasik      7.8       8.5  \n",
       "4  ladun_ajuda  familia_seluk  familia_sira_nian_uma      7.5       6.9  \n",
       "\n",
       "[5 rows x 21 columns]"
      ]
     },
     "execution_count": 3,
     "metadata": {},
     "output_type": "execute_result"
    }
   ],
   "source": [
    "df.head()"
   ]
  },
  {
   "cell_type": "markdown",
   "metadata": {
    "id": "TtoKSic-gtTk"
   },
   "source": [
    "## Cek koluna sira ne'ebe existe"
   ]
  },
  {
   "cell_type": "code",
   "execution_count": 4,
   "metadata": {
    "colab": {
     "base_uri": "https://localhost:8080/"
    },
    "id": "XrOeS5RWf9vC",
    "outputId": "1c787802-d475-4946-dce8-cc81c615ebf4"
   },
   "outputs": [
    {
     "data": {
      "text/plain": [
       "Index(['Naran_Enumerador', 'Naran', 'NRE', 'Sexo', 'Turma', 'Hela_Fatin',\n",
       "       'Eskola_anterior', 'Edukasaun_Inan', 'Edukasaun_Aman', 'Profisaun_Inan',\n",
       "       'Profisaun_Aman', 'Aktividade_Extra', 'Transporte', 'Laptop',\n",
       "       'Rede_Internet', 'Fatin_estuda', 'Ambiente', 'Akompanha', 'Hela_Iha',\n",
       "       'Valor_IP', 'Valor_SO'],\n",
       "      dtype='object')"
      ]
     },
     "execution_count": 4,
     "metadata": {},
     "output_type": "execute_result"
    }
   ],
   "source": [
    "df.columns"
   ]
  },
  {
   "cell_type": "markdown",
   "metadata": {
    "id": "LI1qTVDjg1p2"
   },
   "source": [
    "### Cek tipu dadus sira husi kada koluna"
   ]
  },
  {
   "cell_type": "code",
   "execution_count": 5,
   "metadata": {
    "colab": {
     "base_uri": "https://localhost:8080/"
    },
    "id": "dTZO0cx1gWyQ",
    "outputId": "bc27a0c6-67d4-4cc2-bfd1-5de543d80151"
   },
   "outputs": [
    {
     "data": {
      "text/plain": [
       "Naran_Enumerador     object\n",
       "Naran                object\n",
       "NRE                   int64\n",
       "Sexo                 object\n",
       "Turma                object\n",
       "Hela_Fatin           object\n",
       "Eskola_anterior      object\n",
       "Edukasaun_Inan       object\n",
       "Edukasaun_Aman       object\n",
       "Profisaun_Inan       object\n",
       "Profisaun_Aman       object\n",
       "Aktividade_Extra     object\n",
       "Transporte           object\n",
       "Laptop               object\n",
       "Rede_Internet        object\n",
       "Fatin_estuda         object\n",
       "Ambiente             object\n",
       "Akompanha            object\n",
       "Hela_Iha             object\n",
       "Valor_IP            float64\n",
       "Valor_SO            float64\n",
       "dtype: object"
      ]
     },
     "execution_count": 5,
     "metadata": {},
     "output_type": "execute_result"
    }
   ],
   "source": [
    "df.dtypes"
   ]
  },
  {
   "cell_type": "markdown",
   "metadata": {
    "id": "1q6cqT2-hRIB"
   },
   "source": [
    "### Cek dadus sira ne'ebe mamuk"
   ]
  },
  {
   "cell_type": "code",
   "execution_count": 6,
   "metadata": {
    "colab": {
     "base_uri": "https://localhost:8080/"
    },
    "id": "BY8mU_tIgcon",
    "outputId": "983bd975-824f-4280-8bf0-3aa058e5f2a5"
   },
   "outputs": [
    {
     "data": {
      "text/plain": [
       "Naran_Enumerador    0\n",
       "Naran               0\n",
       "NRE                 0\n",
       "Sexo                0\n",
       "Turma               0\n",
       "Hela_Fatin          0\n",
       "Eskola_anterior     0\n",
       "Edukasaun_Inan      0\n",
       "Edukasaun_Aman      0\n",
       "Profisaun_Inan      0\n",
       "Profisaun_Aman      0\n",
       "Aktividade_Extra    5\n",
       "Transporte          0\n",
       "Laptop              0\n",
       "Rede_Internet       0\n",
       "Fatin_estuda        0\n",
       "Ambiente            0\n",
       "Akompanha           0\n",
       "Hela_Iha            0\n",
       "Valor_IP            0\n",
       "Valor_SO            0\n",
       "dtype: int64"
      ]
     },
     "execution_count": 6,
     "metadata": {},
     "output_type": "execute_result"
    }
   ],
   "source": [
    "df.isnull().sum()"
   ]
  },
  {
   "cell_type": "code",
   "execution_count": 7,
   "metadata": {
    "colab": {
     "base_uri": "https://localhost:8080/"
    },
    "id": "s9k3HINKhNam",
    "outputId": "0a58a179-0fbb-4b39-c87e-525153d59888"
   },
   "outputs": [
    {
     "data": {
      "text/plain": [
       "laiha    33\n",
       "iha      22\n",
       "Name: Aktividade_Extra, dtype: int64"
      ]
     },
     "execution_count": 7,
     "metadata": {},
     "output_type": "execute_result"
    }
   ],
   "source": [
    "#Konta Dadus ne'ebe eziste iha koluna Aktividade Extra\n",
    "df['Aktividade_Extra'].value_counts()"
   ]
  },
  {
   "cell_type": "code",
   "execution_count": 8,
   "metadata": {
    "id": "sL2zMi6mhbY1"
   },
   "outputs": [],
   "source": [
    "#Prenxe dadus sira ne'ebe mamuk iha koluna Aktividade Extra ho dadus maioria\n",
    "df['Aktividade_Extra'] = df['Aktividade_Extra'].fillna(df['Aktividade_Extra'].value_counts().index[0])"
   ]
  },
  {
   "cell_type": "code",
   "execution_count": 9,
   "metadata": {
    "colab": {
     "base_uri": "https://localhost:8080/"
    },
    "id": "CSXJoFVgiEQq",
    "outputId": "3ca91286-cd12-40c9-e38d-5ba66842528d"
   },
   "outputs": [
    {
     "data": {
      "text/plain": [
       "laiha    38\n",
       "iha      22\n",
       "Name: Aktividade_Extra, dtype: int64"
      ]
     },
     "execution_count": 9,
     "metadata": {},
     "output_type": "execute_result"
    }
   ],
   "source": [
    "#Konta Fila fali dadu sira\n",
    "df['Aktividade_Extra'].value_counts()"
   ]
  },
  {
   "cell_type": "code",
   "execution_count": 10,
   "metadata": {
    "colab": {
     "base_uri": "https://localhost:8080/"
    },
    "id": "WJ9GP3PFiOjJ",
    "outputId": "97638b57-25b6-426b-b4b6-cfeed4378505"
   },
   "outputs": [
    {
     "data": {
      "text/plain": [
       "0"
      ]
     },
     "execution_count": 10,
     "metadata": {},
     "output_type": "execute_result"
    }
   ],
   "source": [
    "#Konta Fila Fali Dadus ne'ebe eziste iha koluna Aktividade Extra sei iha mamuk ka lae\n",
    "df['Aktividade_Extra'].isnull().sum()"
   ]
  },
  {
   "cell_type": "markdown",
   "metadata": {
    "id": "It4ZW0AJl2Az"
   },
   "source": [
    "#Prosesu Encoding Dadus Sira\n",
    "-----------------------------------------------------------------------------"
   ]
  },
  {
   "cell_type": "code",
   "execution_count": 11,
   "metadata": {
    "id": "uDMgmbTiiZhZ"
   },
   "outputs": [],
   "source": [
    "# Using SciKit Learn\n",
    "# Encoding make column using LabelEncoder\n",
    "\n",
    "from sklearn.preprocessing import LabelEncoder\n",
    "\n",
    "df_mod = df\n",
    "\n",
    "labelencoder = LabelEncoder()\n",
    "\n",
    "df_mod['Sexo_enc'] = labelencoder.fit_transform(df_mod['Sexo'])"
   ]
  },
  {
   "cell_type": "code",
   "execution_count": 12,
   "metadata": {
    "colab": {
     "base_uri": "https://localhost:8080/",
     "height": 677
    },
    "id": "dvm-UwcYk-c0",
    "outputId": "f2144962-94de-4971-876e-5a4456b4e383"
   },
   "outputs": [
    {
     "data": {
      "text/html": [
       "<div>\n",
       "<style scoped>\n",
       "    .dataframe tbody tr th:only-of-type {\n",
       "        vertical-align: middle;\n",
       "    }\n",
       "\n",
       "    .dataframe tbody tr th {\n",
       "        vertical-align: top;\n",
       "    }\n",
       "\n",
       "    .dataframe thead th {\n",
       "        text-align: right;\n",
       "    }\n",
       "</style>\n",
       "<table border=\"1\" class=\"dataframe\">\n",
       "  <thead>\n",
       "    <tr style=\"text-align: right;\">\n",
       "      <th></th>\n",
       "      <th>Sexo</th>\n",
       "      <th>Sexo_enc</th>\n",
       "    </tr>\n",
       "  </thead>\n",
       "  <tbody>\n",
       "    <tr>\n",
       "      <th>41</th>\n",
       "      <td>mane</td>\n",
       "      <td>1</td>\n",
       "    </tr>\n",
       "    <tr>\n",
       "      <th>58</th>\n",
       "      <td>mane</td>\n",
       "      <td>1</td>\n",
       "    </tr>\n",
       "    <tr>\n",
       "      <th>45</th>\n",
       "      <td>mane</td>\n",
       "      <td>1</td>\n",
       "    </tr>\n",
       "    <tr>\n",
       "      <th>35</th>\n",
       "      <td>feto</td>\n",
       "      <td>0</td>\n",
       "    </tr>\n",
       "    <tr>\n",
       "      <th>12</th>\n",
       "      <td>mane</td>\n",
       "      <td>1</td>\n",
       "    </tr>\n",
       "    <tr>\n",
       "      <th>8</th>\n",
       "      <td>mane</td>\n",
       "      <td>1</td>\n",
       "    </tr>\n",
       "    <tr>\n",
       "      <th>29</th>\n",
       "      <td>mane</td>\n",
       "      <td>1</td>\n",
       "    </tr>\n",
       "    <tr>\n",
       "      <th>16</th>\n",
       "      <td>mane</td>\n",
       "      <td>1</td>\n",
       "    </tr>\n",
       "    <tr>\n",
       "      <th>43</th>\n",
       "      <td>feto</td>\n",
       "      <td>0</td>\n",
       "    </tr>\n",
       "    <tr>\n",
       "      <th>53</th>\n",
       "      <td>feto</td>\n",
       "      <td>0</td>\n",
       "    </tr>\n",
       "    <tr>\n",
       "      <th>23</th>\n",
       "      <td>mane</td>\n",
       "      <td>1</td>\n",
       "    </tr>\n",
       "    <tr>\n",
       "      <th>1</th>\n",
       "      <td>mane</td>\n",
       "      <td>1</td>\n",
       "    </tr>\n",
       "    <tr>\n",
       "      <th>9</th>\n",
       "      <td>mane</td>\n",
       "      <td>1</td>\n",
       "    </tr>\n",
       "    <tr>\n",
       "      <th>3</th>\n",
       "      <td>mane</td>\n",
       "      <td>1</td>\n",
       "    </tr>\n",
       "    <tr>\n",
       "      <th>40</th>\n",
       "      <td>mane</td>\n",
       "      <td>1</td>\n",
       "    </tr>\n",
       "    <tr>\n",
       "      <th>52</th>\n",
       "      <td>feto</td>\n",
       "      <td>0</td>\n",
       "    </tr>\n",
       "    <tr>\n",
       "      <th>33</th>\n",
       "      <td>mane</td>\n",
       "      <td>1</td>\n",
       "    </tr>\n",
       "    <tr>\n",
       "      <th>5</th>\n",
       "      <td>feto</td>\n",
       "      <td>0</td>\n",
       "    </tr>\n",
       "    <tr>\n",
       "      <th>44</th>\n",
       "      <td>mane</td>\n",
       "      <td>1</td>\n",
       "    </tr>\n",
       "    <tr>\n",
       "      <th>27</th>\n",
       "      <td>mane</td>\n",
       "      <td>1</td>\n",
       "    </tr>\n",
       "  </tbody>\n",
       "</table>\n",
       "</div>"
      ],
      "text/plain": [
       "    Sexo  Sexo_enc\n",
       "41  mane         1\n",
       "58  mane         1\n",
       "45  mane         1\n",
       "35  feto         0\n",
       "12  mane         1\n",
       "8   mane         1\n",
       "29  mane         1\n",
       "16  mane         1\n",
       "43  feto         0\n",
       "53  feto         0\n",
       "23  mane         1\n",
       "1   mane         1\n",
       "9   mane         1\n",
       "3   mane         1\n",
       "40  mane         1\n",
       "52  feto         0\n",
       "33  mane         1\n",
       "5   feto         0\n",
       "44  mane         1\n",
       "27  mane         1"
      ]
     },
     "execution_count": 12,
     "metadata": {},
     "output_type": "execute_result"
    }
   ],
   "source": [
    "# Viewing few rows of make and its encoded columns\n",
    "\n",
    "df_mod[['Sexo', 'Sexo_enc']].sample(20)"
   ]
  },
  {
   "cell_type": "code",
   "execution_count": 13,
   "metadata": {
    "colab": {
     "base_uri": "https://localhost:8080/"
    },
    "id": "yDgeRP7VlHcI",
    "outputId": "47aa4397-7580-4b02-d05d-d92df87d490e"
   },
   "outputs": [
    {
     "data": {
      "text/plain": [
       "mane    46\n",
       "feto    14\n",
       "Name: Sexo, dtype: int64"
      ]
     },
     "execution_count": 13,
     "metadata": {},
     "output_type": "execute_result"
    }
   ],
   "source": [
    "#Value Count for Sexo\n",
    "df_mod['Sexo'].value_counts()"
   ]
  },
  {
   "cell_type": "code",
   "execution_count": 14,
   "metadata": {
    "colab": {
     "base_uri": "https://localhost:8080/"
    },
    "id": "PWyq330vlSUf",
    "outputId": "f1e04572-4248-4445-88fe-d104223d40f0"
   },
   "outputs": [
    {
     "data": {
      "text/plain": [
       "1    46\n",
       "0    14\n",
       "Name: Sexo_enc, dtype: int64"
      ]
     },
     "execution_count": 14,
     "metadata": {},
     "output_type": "execute_result"
    }
   ],
   "source": [
    "#Value Count for Sexo_enc\n",
    "df_mod['Sexo_enc'].value_counts()"
   ]
  },
  {
   "cell_type": "code",
   "execution_count": 15,
   "metadata": {
    "colab": {
     "base_uri": "https://localhost:8080/"
    },
    "id": "XAUylNgwmB6d",
    "outputId": "dc52b026-074a-49af-b688-8a0a9f8d4fb7"
   },
   "outputs": [
    {
     "data": {
      "text/plain": [
       "0     1\n",
       "1     1\n",
       "2     1\n",
       "3     1\n",
       "4     1\n",
       "5     0\n",
       "6     1\n",
       "7     1\n",
       "8     1\n",
       "9     1\n",
       "10    0\n",
       "11    1\n",
       "12    1\n",
       "13    1\n",
       "14    0\n",
       "15    0\n",
       "16    1\n",
       "17    1\n",
       "18    0\n",
       "19    1\n",
       "20    1\n",
       "21    1\n",
       "22    1\n",
       "23    1\n",
       "24    1\n",
       "25    1\n",
       "26    1\n",
       "27    1\n",
       "28    1\n",
       "29    1\n",
       "30    0\n",
       "31    0\n",
       "32    1\n",
       "33    1\n",
       "34    1\n",
       "35    0\n",
       "36    1\n",
       "37    0\n",
       "38    1\n",
       "39    0\n",
       "40    1\n",
       "41    1\n",
       "42    1\n",
       "43    0\n",
       "44    1\n",
       "45    1\n",
       "46    1\n",
       "47    1\n",
       "48    1\n",
       "49    1\n",
       "50    1\n",
       "51    1\n",
       "52    0\n",
       "53    0\n",
       "54    0\n",
       "55    1\n",
       "56    1\n",
       "57    1\n",
       "58    1\n",
       "59    1\n",
       "Name: Sexo_enc, dtype: int32"
      ]
     },
     "execution_count": 15,
     "metadata": {},
     "output_type": "execute_result"
    }
   ],
   "source": [
    "#Muda datatype husi int ba kategoria\n",
    "df_mod['Sexo'] = df_mod['Sexo_enc']\n",
    "#Apaga koluna Sexo_enc\n",
    "df_mod.pop('Sexo_enc')"
   ]
  },
  {
   "cell_type": "code",
   "execution_count": 16,
   "metadata": {
    "colab": {
     "base_uri": "https://localhost:8080/",
     "height": 473
    },
    "id": "eM-JBST_nf1n",
    "outputId": "2493bcd2-ce5a-4c30-a065-a5300c9e9520"
   },
   "outputs": [
    {
     "data": {
      "text/html": [
       "<div>\n",
       "<style scoped>\n",
       "    .dataframe tbody tr th:only-of-type {\n",
       "        vertical-align: middle;\n",
       "    }\n",
       "\n",
       "    .dataframe tbody tr th {\n",
       "        vertical-align: top;\n",
       "    }\n",
       "\n",
       "    .dataframe thead th {\n",
       "        text-align: right;\n",
       "    }\n",
       "</style>\n",
       "<table border=\"1\" class=\"dataframe\">\n",
       "  <thead>\n",
       "    <tr style=\"text-align: right;\">\n",
       "      <th></th>\n",
       "      <th>Naran_Enumerador</th>\n",
       "      <th>Naran</th>\n",
       "      <th>NRE</th>\n",
       "      <th>Sexo</th>\n",
       "      <th>Turma</th>\n",
       "      <th>Hela_Fatin</th>\n",
       "      <th>Eskola_anterior</th>\n",
       "      <th>Edukasaun_Inan</th>\n",
       "      <th>Edukasaun_Aman</th>\n",
       "      <th>Profisaun_Inan</th>\n",
       "      <th>...</th>\n",
       "      <th>Aktividade_Extra</th>\n",
       "      <th>Transporte</th>\n",
       "      <th>Laptop</th>\n",
       "      <th>Rede_Internet</th>\n",
       "      <th>Fatin_estuda</th>\n",
       "      <th>Ambiente</th>\n",
       "      <th>Akompanha</th>\n",
       "      <th>Hela_Iha</th>\n",
       "      <th>Valor_IP</th>\n",
       "      <th>Valor_SO</th>\n",
       "    </tr>\n",
       "  </thead>\n",
       "  <tbody>\n",
       "    <tr>\n",
       "      <th>0</th>\n",
       "      <td>Marcelino R Neves</td>\n",
       "      <td>Eurico Rosario Maria</td>\n",
       "      <td>20200204022</td>\n",
       "      <td>1</td>\n",
       "      <td>a</td>\n",
       "      <td>RUFECT-Hera</td>\n",
       "      <td>pri</td>\n",
       "      <td>pri</td>\n",
       "      <td>pri</td>\n",
       "      <td>dc</td>\n",
       "      <td>...</td>\n",
       "      <td>laiha</td>\n",
       "      <td>tp</td>\n",
       "      <td>iha</td>\n",
       "      <td>diak</td>\n",
       "      <td>iha</td>\n",
       "      <td>ajuda_tebes</td>\n",
       "      <td>mesak</td>\n",
       "      <td>aluga_kos</td>\n",
       "      <td>7.8</td>\n",
       "      <td>8.3</td>\n",
       "    </tr>\n",
       "    <tr>\n",
       "      <th>1</th>\n",
       "      <td>Marcelino R Neves</td>\n",
       "      <td>Alvarino Soares Guterres</td>\n",
       "      <td>20200204003</td>\n",
       "      <td>1</td>\n",
       "      <td>a</td>\n",
       "      <td>Dili</td>\n",
       "      <td>pri</td>\n",
       "      <td>lae</td>\n",
       "      <td>s1</td>\n",
       "      <td>dc</td>\n",
       "      <td>...</td>\n",
       "      <td>laiha</td>\n",
       "      <td>motor</td>\n",
       "      <td>iha</td>\n",
       "      <td>diak</td>\n",
       "      <td>iha</td>\n",
       "      <td>ajuda_tebes</td>\n",
       "      <td>inan_aman</td>\n",
       "      <td>uma_rasik</td>\n",
       "      <td>7.5</td>\n",
       "      <td>5.5</td>\n",
       "    </tr>\n",
       "    <tr>\n",
       "      <th>2</th>\n",
       "      <td>Marcelino R Neves</td>\n",
       "      <td>Pedro M. A. Abel Soares</td>\n",
       "      <td>20200204070</td>\n",
       "      <td>1</td>\n",
       "      <td>b</td>\n",
       "      <td>Dili</td>\n",
       "      <td>mis</td>\n",
       "      <td>s1</td>\n",
       "      <td>s1</td>\n",
       "      <td>dc</td>\n",
       "      <td>...</td>\n",
       "      <td>iha</td>\n",
       "      <td>kareta</td>\n",
       "      <td>iha</td>\n",
       "      <td>diak</td>\n",
       "      <td>iha</td>\n",
       "      <td>ajuda_tebes</td>\n",
       "      <td>inan_aman</td>\n",
       "      <td>uma_rasik</td>\n",
       "      <td>7.2</td>\n",
       "      <td>9.6</td>\n",
       "    </tr>\n",
       "    <tr>\n",
       "      <th>3</th>\n",
       "      <td>Marcelino R Neves</td>\n",
       "      <td>Marcelino R Neves</td>\n",
       "      <td>20200204054</td>\n",
       "      <td>1</td>\n",
       "      <td>b</td>\n",
       "      <td>RUFECT-Hera</td>\n",
       "      <td>pub</td>\n",
       "      <td>pre_sec</td>\n",
       "      <td>sec</td>\n",
       "      <td>dc</td>\n",
       "      <td>...</td>\n",
       "      <td>iha</td>\n",
       "      <td>tp</td>\n",
       "      <td>iha</td>\n",
       "      <td>diak</td>\n",
       "      <td>iha</td>\n",
       "      <td>ajuda_tebes</td>\n",
       "      <td>maun_bin</td>\n",
       "      <td>uma_rasik</td>\n",
       "      <td>7.8</td>\n",
       "      <td>8.5</td>\n",
       "    </tr>\n",
       "    <tr>\n",
       "      <th>4</th>\n",
       "      <td>Joao Soares</td>\n",
       "      <td>Jose Norberto da silva ximenes</td>\n",
       "      <td>20200204047</td>\n",
       "      <td>1</td>\n",
       "      <td>b</td>\n",
       "      <td>Beto</td>\n",
       "      <td>pub</td>\n",
       "      <td>pre_sec</td>\n",
       "      <td>pre_sec</td>\n",
       "      <td>dc</td>\n",
       "      <td>...</td>\n",
       "      <td>laiha</td>\n",
       "      <td>tp</td>\n",
       "      <td>iha</td>\n",
       "      <td>ladun_diak</td>\n",
       "      <td>laiha</td>\n",
       "      <td>ladun_ajuda</td>\n",
       "      <td>familia_seluk</td>\n",
       "      <td>familia_sira_nian_uma</td>\n",
       "      <td>7.5</td>\n",
       "      <td>6.9</td>\n",
       "    </tr>\n",
       "  </tbody>\n",
       "</table>\n",
       "<p>5 rows × 21 columns</p>\n",
       "</div>"
      ],
      "text/plain": [
       "    Naran_Enumerador                           Naran          NRE  Sexo Turma  \\\n",
       "0  Marcelino R Neves            Eurico Rosario Maria  20200204022     1     a   \n",
       "1  Marcelino R Neves        Alvarino Soares Guterres  20200204003     1     a   \n",
       "2  Marcelino R Neves         Pedro M. A. Abel Soares  20200204070     1     b   \n",
       "3  Marcelino R Neves               Marcelino R Neves  20200204054     1     b   \n",
       "4        Joao Soares  Jose Norberto da silva ximenes  20200204047     1     b   \n",
       "\n",
       "    Hela_Fatin Eskola_anterior Edukasaun_Inan Edukasaun_Aman Profisaun_Inan  \\\n",
       "0  RUFECT-Hera             pri            pri            pri             dc   \n",
       "1         Dili             pri            lae             s1             dc   \n",
       "2         Dili             mis             s1             s1             dc   \n",
       "3  RUFECT-Hera             pub        pre_sec            sec             dc   \n",
       "4         Beto             pub        pre_sec        pre_sec             dc   \n",
       "\n",
       "   ... Aktividade_Extra Transporte Laptop Rede_Internet Fatin_estuda  \\\n",
       "0  ...            laiha         tp    iha          diak          iha   \n",
       "1  ...            laiha      motor    iha          diak          iha   \n",
       "2  ...              iha     kareta    iha          diak          iha   \n",
       "3  ...              iha         tp    iha          diak          iha   \n",
       "4  ...            laiha         tp    iha    ladun_diak        laiha   \n",
       "\n",
       "      Ambiente      Akompanha               Hela_Iha Valor_IP  Valor_SO  \n",
       "0  ajuda_tebes          mesak              aluga_kos      7.8       8.3  \n",
       "1  ajuda_tebes      inan_aman              uma_rasik      7.5       5.5  \n",
       "2  ajuda_tebes      inan_aman              uma_rasik      7.2       9.6  \n",
       "3  ajuda_tebes       maun_bin              uma_rasik      7.8       8.5  \n",
       "4  ladun_ajuda  familia_seluk  familia_sira_nian_uma      7.5       6.9  \n",
       "\n",
       "[5 rows x 21 columns]"
      ]
     },
     "execution_count": 16,
     "metadata": {},
     "output_type": "execute_result"
    }
   ],
   "source": [
    "#Fo sai ulun husi dadus\n",
    "df_mod.head()"
   ]
  },
  {
   "cell_type": "code",
   "execution_count": 17,
   "metadata": {
    "colab": {
     "base_uri": "https://localhost:8080/"
    },
    "id": "26fcqtkFoD2G",
    "outputId": "87cb182e-1384-4af5-e780-eb1d55c54398"
   },
   "outputs": [
    {
     "data": {
      "text/plain": [
       "Naran_Enumerador     object\n",
       "Naran                object\n",
       "NRE                   int64\n",
       "Sexo                  int32\n",
       "Turma                object\n",
       "Hela_Fatin           object\n",
       "Eskola_anterior      object\n",
       "Edukasaun_Inan       object\n",
       "Edukasaun_Aman       object\n",
       "Profisaun_Inan       object\n",
       "Profisaun_Aman       object\n",
       "Aktividade_Extra     object\n",
       "Transporte           object\n",
       "Laptop               object\n",
       "Rede_Internet        object\n",
       "Fatin_estuda         object\n",
       "Ambiente             object\n",
       "Akompanha            object\n",
       "Hela_Iha             object\n",
       "Valor_IP            float64\n",
       "Valor_SO            float64\n",
       "dtype: object"
      ]
     },
     "execution_count": 17,
     "metadata": {},
     "output_type": "execute_result"
    }
   ],
   "source": [
    "#Tipu dadus koluna sira\n",
    "df_mod.dtypes"
   ]
  },
  {
   "cell_type": "code",
   "execution_count": 18,
   "metadata": {
    "colab": {
     "base_uri": "https://localhost:8080/",
     "height": 677
    },
    "id": "8wgRiyQfp1Y4",
    "outputId": "0cf9f634-f9d3-4d91-8be5-84b64c0b58a3"
   },
   "outputs": [
    {
     "data": {
      "text/html": [
       "<div>\n",
       "<style scoped>\n",
       "    .dataframe tbody tr th:only-of-type {\n",
       "        vertical-align: middle;\n",
       "    }\n",
       "\n",
       "    .dataframe tbody tr th {\n",
       "        vertical-align: top;\n",
       "    }\n",
       "\n",
       "    .dataframe thead th {\n",
       "        text-align: right;\n",
       "    }\n",
       "</style>\n",
       "<table border=\"1\" class=\"dataframe\">\n",
       "  <thead>\n",
       "    <tr style=\"text-align: right;\">\n",
       "      <th></th>\n",
       "      <th>Turma</th>\n",
       "      <th>Turma_enc</th>\n",
       "    </tr>\n",
       "  </thead>\n",
       "  <tbody>\n",
       "    <tr>\n",
       "      <th>39</th>\n",
       "      <td>b</td>\n",
       "      <td>1</td>\n",
       "    </tr>\n",
       "    <tr>\n",
       "      <th>15</th>\n",
       "      <td>b</td>\n",
       "      <td>1</td>\n",
       "    </tr>\n",
       "    <tr>\n",
       "      <th>49</th>\n",
       "      <td>b</td>\n",
       "      <td>1</td>\n",
       "    </tr>\n",
       "    <tr>\n",
       "      <th>7</th>\n",
       "      <td>b</td>\n",
       "      <td>1</td>\n",
       "    </tr>\n",
       "    <tr>\n",
       "      <th>24</th>\n",
       "      <td>b</td>\n",
       "      <td>1</td>\n",
       "    </tr>\n",
       "    <tr>\n",
       "      <th>4</th>\n",
       "      <td>b</td>\n",
       "      <td>1</td>\n",
       "    </tr>\n",
       "    <tr>\n",
       "      <th>16</th>\n",
       "      <td>a</td>\n",
       "      <td>0</td>\n",
       "    </tr>\n",
       "    <tr>\n",
       "      <th>12</th>\n",
       "      <td>a</td>\n",
       "      <td>0</td>\n",
       "    </tr>\n",
       "    <tr>\n",
       "      <th>17</th>\n",
       "      <td>a</td>\n",
       "      <td>0</td>\n",
       "    </tr>\n",
       "    <tr>\n",
       "      <th>30</th>\n",
       "      <td>a</td>\n",
       "      <td>0</td>\n",
       "    </tr>\n",
       "    <tr>\n",
       "      <th>11</th>\n",
       "      <td>b</td>\n",
       "      <td>1</td>\n",
       "    </tr>\n",
       "    <tr>\n",
       "      <th>43</th>\n",
       "      <td>b</td>\n",
       "      <td>1</td>\n",
       "    </tr>\n",
       "    <tr>\n",
       "      <th>37</th>\n",
       "      <td>b</td>\n",
       "      <td>1</td>\n",
       "    </tr>\n",
       "    <tr>\n",
       "      <th>58</th>\n",
       "      <td>a</td>\n",
       "      <td>0</td>\n",
       "    </tr>\n",
       "    <tr>\n",
       "      <th>36</th>\n",
       "      <td>b</td>\n",
       "      <td>1</td>\n",
       "    </tr>\n",
       "    <tr>\n",
       "      <th>35</th>\n",
       "      <td>b</td>\n",
       "      <td>1</td>\n",
       "    </tr>\n",
       "    <tr>\n",
       "      <th>19</th>\n",
       "      <td>b</td>\n",
       "      <td>1</td>\n",
       "    </tr>\n",
       "    <tr>\n",
       "      <th>34</th>\n",
       "      <td>b</td>\n",
       "      <td>1</td>\n",
       "    </tr>\n",
       "    <tr>\n",
       "      <th>23</th>\n",
       "      <td>a</td>\n",
       "      <td>0</td>\n",
       "    </tr>\n",
       "    <tr>\n",
       "      <th>22</th>\n",
       "      <td>a</td>\n",
       "      <td>0</td>\n",
       "    </tr>\n",
       "  </tbody>\n",
       "</table>\n",
       "</div>"
      ],
      "text/plain": [
       "   Turma  Turma_enc\n",
       "39     b          1\n",
       "15     b          1\n",
       "49     b          1\n",
       "7      b          1\n",
       "24     b          1\n",
       "4      b          1\n",
       "16     a          0\n",
       "12     a          0\n",
       "17     a          0\n",
       "30     a          0\n",
       "11     b          1\n",
       "43     b          1\n",
       "37     b          1\n",
       "58     a          0\n",
       "36     b          1\n",
       "35     b          1\n",
       "19     b          1\n",
       "34     b          1\n",
       "23     a          0\n",
       "22     a          0"
      ]
     },
     "execution_count": 18,
     "metadata": {},
     "output_type": "execute_result"
    }
   ],
   "source": [
    "df_mod['Turma_enc'] = labelencoder.fit_transform(df_mod['Turma'])\n",
    "df_mod[['Turma', 'Turma_enc']].sample(20)"
   ]
  },
  {
   "cell_type": "code",
   "execution_count": 19,
   "metadata": {
    "colab": {
     "base_uri": "https://localhost:8080/"
    },
    "id": "-920MMfns4WF",
    "outputId": "04a184ed-c5e0-4e69-a5e4-149c1ca53706"
   },
   "outputs": [
    {
     "data": {
      "text/plain": [
       "0     0\n",
       "1     0\n",
       "2     1\n",
       "3     1\n",
       "4     1\n",
       "5     1\n",
       "6     1\n",
       "7     1\n",
       "8     1\n",
       "9     1\n",
       "10    1\n",
       "11    1\n",
       "12    0\n",
       "13    0\n",
       "14    1\n",
       "15    1\n",
       "16    0\n",
       "17    0\n",
       "18    0\n",
       "19    1\n",
       "20    0\n",
       "21    0\n",
       "22    0\n",
       "23    0\n",
       "24    1\n",
       "25    0\n",
       "26    0\n",
       "27    1\n",
       "28    0\n",
       "29    0\n",
       "30    0\n",
       "31    0\n",
       "32    1\n",
       "33    1\n",
       "34    1\n",
       "35    1\n",
       "36    1\n",
       "37    1\n",
       "38    1\n",
       "39    1\n",
       "40    1\n",
       "41    1\n",
       "42    1\n",
       "43    1\n",
       "44    1\n",
       "45    1\n",
       "46    1\n",
       "47    1\n",
       "48    1\n",
       "49    1\n",
       "50    0\n",
       "51    0\n",
       "52    1\n",
       "53    0\n",
       "54    0\n",
       "55    0\n",
       "56    0\n",
       "57    0\n",
       "58    0\n",
       "59    1\n",
       "Name: Turma_enc, dtype: int32"
      ]
     },
     "execution_count": 19,
     "metadata": {},
     "output_type": "execute_result"
    }
   ],
   "source": [
    "df_mod['Turma'] = df_mod['Turma_enc']\n",
    "df_mod.pop('Turma_enc')"
   ]
  },
  {
   "cell_type": "code",
   "execution_count": 20,
   "metadata": {
    "colab": {
     "base_uri": "https://localhost:8080/",
     "height": 473
    },
    "id": "FACN_afYtCLM",
    "outputId": "159c739f-0bfc-400f-9668-5b0326e7b977"
   },
   "outputs": [
    {
     "data": {
      "text/html": [
       "<div>\n",
       "<style scoped>\n",
       "    .dataframe tbody tr th:only-of-type {\n",
       "        vertical-align: middle;\n",
       "    }\n",
       "\n",
       "    .dataframe tbody tr th {\n",
       "        vertical-align: top;\n",
       "    }\n",
       "\n",
       "    .dataframe thead th {\n",
       "        text-align: right;\n",
       "    }\n",
       "</style>\n",
       "<table border=\"1\" class=\"dataframe\">\n",
       "  <thead>\n",
       "    <tr style=\"text-align: right;\">\n",
       "      <th></th>\n",
       "      <th>Naran_Enumerador</th>\n",
       "      <th>Naran</th>\n",
       "      <th>NRE</th>\n",
       "      <th>Sexo</th>\n",
       "      <th>Turma</th>\n",
       "      <th>Hela_Fatin</th>\n",
       "      <th>Eskola_anterior</th>\n",
       "      <th>Edukasaun_Inan</th>\n",
       "      <th>Edukasaun_Aman</th>\n",
       "      <th>Profisaun_Inan</th>\n",
       "      <th>...</th>\n",
       "      <th>Aktividade_Extra</th>\n",
       "      <th>Transporte</th>\n",
       "      <th>Laptop</th>\n",
       "      <th>Rede_Internet</th>\n",
       "      <th>Fatin_estuda</th>\n",
       "      <th>Ambiente</th>\n",
       "      <th>Akompanha</th>\n",
       "      <th>Hela_Iha</th>\n",
       "      <th>Valor_IP</th>\n",
       "      <th>Valor_SO</th>\n",
       "    </tr>\n",
       "  </thead>\n",
       "  <tbody>\n",
       "    <tr>\n",
       "      <th>0</th>\n",
       "      <td>Marcelino R Neves</td>\n",
       "      <td>Eurico Rosario Maria</td>\n",
       "      <td>20200204022</td>\n",
       "      <td>1</td>\n",
       "      <td>0</td>\n",
       "      <td>RUFECT-Hera</td>\n",
       "      <td>pri</td>\n",
       "      <td>pri</td>\n",
       "      <td>pri</td>\n",
       "      <td>dc</td>\n",
       "      <td>...</td>\n",
       "      <td>laiha</td>\n",
       "      <td>tp</td>\n",
       "      <td>iha</td>\n",
       "      <td>diak</td>\n",
       "      <td>iha</td>\n",
       "      <td>ajuda_tebes</td>\n",
       "      <td>mesak</td>\n",
       "      <td>aluga_kos</td>\n",
       "      <td>7.8</td>\n",
       "      <td>8.3</td>\n",
       "    </tr>\n",
       "    <tr>\n",
       "      <th>1</th>\n",
       "      <td>Marcelino R Neves</td>\n",
       "      <td>Alvarino Soares Guterres</td>\n",
       "      <td>20200204003</td>\n",
       "      <td>1</td>\n",
       "      <td>0</td>\n",
       "      <td>Dili</td>\n",
       "      <td>pri</td>\n",
       "      <td>lae</td>\n",
       "      <td>s1</td>\n",
       "      <td>dc</td>\n",
       "      <td>...</td>\n",
       "      <td>laiha</td>\n",
       "      <td>motor</td>\n",
       "      <td>iha</td>\n",
       "      <td>diak</td>\n",
       "      <td>iha</td>\n",
       "      <td>ajuda_tebes</td>\n",
       "      <td>inan_aman</td>\n",
       "      <td>uma_rasik</td>\n",
       "      <td>7.5</td>\n",
       "      <td>5.5</td>\n",
       "    </tr>\n",
       "    <tr>\n",
       "      <th>2</th>\n",
       "      <td>Marcelino R Neves</td>\n",
       "      <td>Pedro M. A. Abel Soares</td>\n",
       "      <td>20200204070</td>\n",
       "      <td>1</td>\n",
       "      <td>1</td>\n",
       "      <td>Dili</td>\n",
       "      <td>mis</td>\n",
       "      <td>s1</td>\n",
       "      <td>s1</td>\n",
       "      <td>dc</td>\n",
       "      <td>...</td>\n",
       "      <td>iha</td>\n",
       "      <td>kareta</td>\n",
       "      <td>iha</td>\n",
       "      <td>diak</td>\n",
       "      <td>iha</td>\n",
       "      <td>ajuda_tebes</td>\n",
       "      <td>inan_aman</td>\n",
       "      <td>uma_rasik</td>\n",
       "      <td>7.2</td>\n",
       "      <td>9.6</td>\n",
       "    </tr>\n",
       "    <tr>\n",
       "      <th>3</th>\n",
       "      <td>Marcelino R Neves</td>\n",
       "      <td>Marcelino R Neves</td>\n",
       "      <td>20200204054</td>\n",
       "      <td>1</td>\n",
       "      <td>1</td>\n",
       "      <td>RUFECT-Hera</td>\n",
       "      <td>pub</td>\n",
       "      <td>pre_sec</td>\n",
       "      <td>sec</td>\n",
       "      <td>dc</td>\n",
       "      <td>...</td>\n",
       "      <td>iha</td>\n",
       "      <td>tp</td>\n",
       "      <td>iha</td>\n",
       "      <td>diak</td>\n",
       "      <td>iha</td>\n",
       "      <td>ajuda_tebes</td>\n",
       "      <td>maun_bin</td>\n",
       "      <td>uma_rasik</td>\n",
       "      <td>7.8</td>\n",
       "      <td>8.5</td>\n",
       "    </tr>\n",
       "    <tr>\n",
       "      <th>4</th>\n",
       "      <td>Joao Soares</td>\n",
       "      <td>Jose Norberto da silva ximenes</td>\n",
       "      <td>20200204047</td>\n",
       "      <td>1</td>\n",
       "      <td>1</td>\n",
       "      <td>Beto</td>\n",
       "      <td>pub</td>\n",
       "      <td>pre_sec</td>\n",
       "      <td>pre_sec</td>\n",
       "      <td>dc</td>\n",
       "      <td>...</td>\n",
       "      <td>laiha</td>\n",
       "      <td>tp</td>\n",
       "      <td>iha</td>\n",
       "      <td>ladun_diak</td>\n",
       "      <td>laiha</td>\n",
       "      <td>ladun_ajuda</td>\n",
       "      <td>familia_seluk</td>\n",
       "      <td>familia_sira_nian_uma</td>\n",
       "      <td>7.5</td>\n",
       "      <td>6.9</td>\n",
       "    </tr>\n",
       "  </tbody>\n",
       "</table>\n",
       "<p>5 rows × 21 columns</p>\n",
       "</div>"
      ],
      "text/plain": [
       "    Naran_Enumerador                           Naran          NRE  Sexo  \\\n",
       "0  Marcelino R Neves            Eurico Rosario Maria  20200204022     1   \n",
       "1  Marcelino R Neves        Alvarino Soares Guterres  20200204003     1   \n",
       "2  Marcelino R Neves         Pedro M. A. Abel Soares  20200204070     1   \n",
       "3  Marcelino R Neves               Marcelino R Neves  20200204054     1   \n",
       "4        Joao Soares  Jose Norberto da silva ximenes  20200204047     1   \n",
       "\n",
       "   Turma   Hela_Fatin Eskola_anterior Edukasaun_Inan Edukasaun_Aman  \\\n",
       "0      0  RUFECT-Hera             pri            pri            pri   \n",
       "1      0         Dili             pri            lae             s1   \n",
       "2      1         Dili             mis             s1             s1   \n",
       "3      1  RUFECT-Hera             pub        pre_sec            sec   \n",
       "4      1         Beto             pub        pre_sec        pre_sec   \n",
       "\n",
       "  Profisaun_Inan  ... Aktividade_Extra Transporte Laptop Rede_Internet  \\\n",
       "0             dc  ...            laiha         tp    iha          diak   \n",
       "1             dc  ...            laiha      motor    iha          diak   \n",
       "2             dc  ...              iha     kareta    iha          diak   \n",
       "3             dc  ...              iha         tp    iha          diak   \n",
       "4             dc  ...            laiha         tp    iha    ladun_diak   \n",
       "\n",
       "  Fatin_estuda     Ambiente      Akompanha               Hela_Iha Valor_IP  \\\n",
       "0          iha  ajuda_tebes          mesak              aluga_kos      7.8   \n",
       "1          iha  ajuda_tebes      inan_aman              uma_rasik      7.5   \n",
       "2          iha  ajuda_tebes      inan_aman              uma_rasik      7.2   \n",
       "3          iha  ajuda_tebes       maun_bin              uma_rasik      7.8   \n",
       "4        laiha  ladun_ajuda  familia_seluk  familia_sira_nian_uma      7.5   \n",
       "\n",
       "   Valor_SO  \n",
       "0       8.3  \n",
       "1       5.5  \n",
       "2       9.6  \n",
       "3       8.5  \n",
       "4       6.9  \n",
       "\n",
       "[5 rows x 21 columns]"
      ]
     },
     "execution_count": 20,
     "metadata": {},
     "output_type": "execute_result"
    }
   ],
   "source": [
    "df_mod.head()"
   ]
  },
  {
   "cell_type": "code",
   "execution_count": 21,
   "metadata": {
    "colab": {
     "base_uri": "https://localhost:8080/"
    },
    "id": "qzar4I9yuTc9",
    "outputId": "b410ab56-8481-451d-ac22-3267bd9aa231"
   },
   "outputs": [
    {
     "data": {
      "text/plain": [
       "RUFECT-Hera       11\n",
       "Hera               9\n",
       "Manleuana          4\n",
       "Becora             4\n",
       "Dili               3\n",
       "Ailok-Laran        3\n",
       "Kuluhun            3\n",
       "Beto               2\n",
       "Bairo-Pite         2\n",
       "Comoro             2\n",
       "Fatuhada           2\n",
       "Farol              1\n",
       "Taibesi            1\n",
       "Fatumeta           1\n",
       "Ai-mutin           1\n",
       "Bayaleste          1\n",
       "Caicoli            1\n",
       "Beduku             1\n",
       "Fatuahi            1\n",
       "Vila-Verde         1\n",
       "Bidau              1\n",
       "Bebonuk            1\n",
       "Bidau lecidere     1\n",
       "Bidau-Massau       1\n",
       "Fomento1           1\n",
       "Kintal Bo'ot       1\n",
       "Name: Hela_Fatin, dtype: int64"
      ]
     },
     "execution_count": 21,
     "metadata": {},
     "output_type": "execute_result"
    }
   ],
   "source": [
    "#Sura dadus sira ne'ebe eziste iha koluna Hela_Fatin\n",
    "df_mod[\"Hela_Fatin\"].value_counts()"
   ]
  },
  {
   "cell_type": "code",
   "execution_count": 22,
   "metadata": {
    "colab": {
     "base_uri": "https://localhost:8080/",
     "height": 677
    },
    "id": "904tREzCutjm",
    "outputId": "8315d938-11e2-407d-961e-63b3dd04f56b"
   },
   "outputs": [
    {
     "data": {
      "text/html": [
       "<div>\n",
       "<style scoped>\n",
       "    .dataframe tbody tr th:only-of-type {\n",
       "        vertical-align: middle;\n",
       "    }\n",
       "\n",
       "    .dataframe tbody tr th {\n",
       "        vertical-align: top;\n",
       "    }\n",
       "\n",
       "    .dataframe thead th {\n",
       "        text-align: right;\n",
       "    }\n",
       "</style>\n",
       "<table border=\"1\" class=\"dataframe\">\n",
       "  <thead>\n",
       "    <tr style=\"text-align: right;\">\n",
       "      <th></th>\n",
       "      <th>Hela_Fatin</th>\n",
       "      <th>Hela_Fatin_2</th>\n",
       "    </tr>\n",
       "  </thead>\n",
       "  <tbody>\n",
       "    <tr>\n",
       "      <th>39</th>\n",
       "      <td>Bairo-Pite</td>\n",
       "      <td>Dook</td>\n",
       "    </tr>\n",
       "    <tr>\n",
       "      <th>8</th>\n",
       "      <td>RUFECT-Hera</td>\n",
       "      <td>Besik</td>\n",
       "    </tr>\n",
       "    <tr>\n",
       "      <th>41</th>\n",
       "      <td>Hera</td>\n",
       "      <td>Besik</td>\n",
       "    </tr>\n",
       "    <tr>\n",
       "      <th>38</th>\n",
       "      <td>Bairo-Pite</td>\n",
       "      <td>Dook</td>\n",
       "    </tr>\n",
       "    <tr>\n",
       "      <th>56</th>\n",
       "      <td>Fatuhada</td>\n",
       "      <td>Dook</td>\n",
       "    </tr>\n",
       "    <tr>\n",
       "      <th>48</th>\n",
       "      <td>Hera</td>\n",
       "      <td>Besik</td>\n",
       "    </tr>\n",
       "    <tr>\n",
       "      <th>53</th>\n",
       "      <td>Hera</td>\n",
       "      <td>Besik</td>\n",
       "    </tr>\n",
       "    <tr>\n",
       "      <th>51</th>\n",
       "      <td>Taibesi</td>\n",
       "      <td>Besik</td>\n",
       "    </tr>\n",
       "    <tr>\n",
       "      <th>7</th>\n",
       "      <td>Ailok-Laran</td>\n",
       "      <td>Dook</td>\n",
       "    </tr>\n",
       "    <tr>\n",
       "      <th>19</th>\n",
       "      <td>Bidau lecidere</td>\n",
       "      <td>Dook</td>\n",
       "    </tr>\n",
       "    <tr>\n",
       "      <th>6</th>\n",
       "      <td>RUFECT-Hera</td>\n",
       "      <td>Besik</td>\n",
       "    </tr>\n",
       "    <tr>\n",
       "      <th>27</th>\n",
       "      <td>Bebonuk</td>\n",
       "      <td>Dook</td>\n",
       "    </tr>\n",
       "    <tr>\n",
       "      <th>36</th>\n",
       "      <td>Fatuahi</td>\n",
       "      <td>Dook</td>\n",
       "    </tr>\n",
       "    <tr>\n",
       "      <th>1</th>\n",
       "      <td>Dili</td>\n",
       "      <td>Dook</td>\n",
       "    </tr>\n",
       "    <tr>\n",
       "      <th>40</th>\n",
       "      <td>Kuluhun</td>\n",
       "      <td>Besik</td>\n",
       "    </tr>\n",
       "    <tr>\n",
       "      <th>9</th>\n",
       "      <td>Hera</td>\n",
       "      <td>Besik</td>\n",
       "    </tr>\n",
       "    <tr>\n",
       "      <th>44</th>\n",
       "      <td>Caicoli</td>\n",
       "      <td>Dook</td>\n",
       "    </tr>\n",
       "    <tr>\n",
       "      <th>47</th>\n",
       "      <td>Fatumeta</td>\n",
       "      <td>Dook</td>\n",
       "    </tr>\n",
       "    <tr>\n",
       "      <th>25</th>\n",
       "      <td>Dili</td>\n",
       "      <td>Dook</td>\n",
       "    </tr>\n",
       "    <tr>\n",
       "      <th>29</th>\n",
       "      <td>Manleuana</td>\n",
       "      <td>Dook</td>\n",
       "    </tr>\n",
       "  </tbody>\n",
       "</table>\n",
       "</div>"
      ],
      "text/plain": [
       "        Hela_Fatin Hela_Fatin_2\n",
       "39      Bairo-Pite         Dook\n",
       "8      RUFECT-Hera        Besik\n",
       "41            Hera        Besik\n",
       "38      Bairo-Pite         Dook\n",
       "56        Fatuhada         Dook\n",
       "48            Hera        Besik\n",
       "53            Hera        Besik\n",
       "51         Taibesi        Besik\n",
       "7      Ailok-Laran         Dook\n",
       "19  Bidau lecidere         Dook\n",
       "6      RUFECT-Hera        Besik\n",
       "27         Bebonuk         Dook\n",
       "36         Fatuahi         Dook\n",
       "1             Dili         Dook\n",
       "40         Kuluhun        Besik\n",
       "9             Hera        Besik\n",
       "44         Caicoli         Dook\n",
       "47        Fatumeta         Dook\n",
       "25            Dili         Dook\n",
       "29       Manleuana         Dook"
      ]
     },
     "execution_count": 22,
     "metadata": {},
     "output_type": "execute_result"
    }
   ],
   "source": [
    "#Prosesu klasifika Dadus hela Fatin sira\n",
    "#List of conditions\n",
    "conditions = [\n",
    "      (df_mod['Hela_Fatin'] == \"RUFECT-Hera\"),\n",
    "      (df_mod['Hela_Fatin'] == \"Hera\"),\n",
    "      (df_mod['Hela_Fatin'] == \"Becora\"),\n",
    "      (df_mod['Hela_Fatin'] == \"Taibesi\"),\n",
    "      (df_mod['Hela_Fatin'] == \"Kuluhun\")\n",
    "]\n",
    "\n",
    "# List of values to return\n",
    "choices  = [\n",
    "      \"Besik\",\n",
    "      \"Besik\",\n",
    "      \"Besik\",\n",
    "      \"Besik\",\n",
    "      \"Besik\",\n",
    "    \n",
    "]\n",
    "df_mod['Hela_Fatin_2'] = np.select(conditions, choices, \"Dook\")\n",
    "df_mod[['Hela_Fatin', 'Hela_Fatin_2']].sample(20)"
   ]
  },
  {
   "cell_type": "code",
   "execution_count": 23,
   "metadata": {
    "colab": {
     "base_uri": "https://localhost:8080/",
     "height": 473
    },
    "id": "hpO0VrTmxSS9",
    "outputId": "f608cfaf-6a51-4bef-e8a4-eba9ed39f59b"
   },
   "outputs": [
    {
     "data": {
      "text/html": [
       "<div>\n",
       "<style scoped>\n",
       "    .dataframe tbody tr th:only-of-type {\n",
       "        vertical-align: middle;\n",
       "    }\n",
       "\n",
       "    .dataframe tbody tr th {\n",
       "        vertical-align: top;\n",
       "    }\n",
       "\n",
       "    .dataframe thead th {\n",
       "        text-align: right;\n",
       "    }\n",
       "</style>\n",
       "<table border=\"1\" class=\"dataframe\">\n",
       "  <thead>\n",
       "    <tr style=\"text-align: right;\">\n",
       "      <th></th>\n",
       "      <th>Naran_Enumerador</th>\n",
       "      <th>Naran</th>\n",
       "      <th>NRE</th>\n",
       "      <th>Sexo</th>\n",
       "      <th>Turma</th>\n",
       "      <th>Hela_Fatin</th>\n",
       "      <th>Eskola_anterior</th>\n",
       "      <th>Edukasaun_Inan</th>\n",
       "      <th>Edukasaun_Aman</th>\n",
       "      <th>Profisaun_Inan</th>\n",
       "      <th>...</th>\n",
       "      <th>Aktividade_Extra</th>\n",
       "      <th>Transporte</th>\n",
       "      <th>Laptop</th>\n",
       "      <th>Rede_Internet</th>\n",
       "      <th>Fatin_estuda</th>\n",
       "      <th>Ambiente</th>\n",
       "      <th>Akompanha</th>\n",
       "      <th>Hela_Iha</th>\n",
       "      <th>Valor_IP</th>\n",
       "      <th>Valor_SO</th>\n",
       "    </tr>\n",
       "  </thead>\n",
       "  <tbody>\n",
       "    <tr>\n",
       "      <th>0</th>\n",
       "      <td>Marcelino R Neves</td>\n",
       "      <td>Eurico Rosario Maria</td>\n",
       "      <td>20200204022</td>\n",
       "      <td>1</td>\n",
       "      <td>0</td>\n",
       "      <td>Besik</td>\n",
       "      <td>pri</td>\n",
       "      <td>pri</td>\n",
       "      <td>pri</td>\n",
       "      <td>dc</td>\n",
       "      <td>...</td>\n",
       "      <td>laiha</td>\n",
       "      <td>tp</td>\n",
       "      <td>iha</td>\n",
       "      <td>diak</td>\n",
       "      <td>iha</td>\n",
       "      <td>ajuda_tebes</td>\n",
       "      <td>mesak</td>\n",
       "      <td>aluga_kos</td>\n",
       "      <td>7.8</td>\n",
       "      <td>8.3</td>\n",
       "    </tr>\n",
       "    <tr>\n",
       "      <th>1</th>\n",
       "      <td>Marcelino R Neves</td>\n",
       "      <td>Alvarino Soares Guterres</td>\n",
       "      <td>20200204003</td>\n",
       "      <td>1</td>\n",
       "      <td>0</td>\n",
       "      <td>Dook</td>\n",
       "      <td>pri</td>\n",
       "      <td>lae</td>\n",
       "      <td>s1</td>\n",
       "      <td>dc</td>\n",
       "      <td>...</td>\n",
       "      <td>laiha</td>\n",
       "      <td>motor</td>\n",
       "      <td>iha</td>\n",
       "      <td>diak</td>\n",
       "      <td>iha</td>\n",
       "      <td>ajuda_tebes</td>\n",
       "      <td>inan_aman</td>\n",
       "      <td>uma_rasik</td>\n",
       "      <td>7.5</td>\n",
       "      <td>5.5</td>\n",
       "    </tr>\n",
       "    <tr>\n",
       "      <th>2</th>\n",
       "      <td>Marcelino R Neves</td>\n",
       "      <td>Pedro M. A. Abel Soares</td>\n",
       "      <td>20200204070</td>\n",
       "      <td>1</td>\n",
       "      <td>1</td>\n",
       "      <td>Dook</td>\n",
       "      <td>mis</td>\n",
       "      <td>s1</td>\n",
       "      <td>s1</td>\n",
       "      <td>dc</td>\n",
       "      <td>...</td>\n",
       "      <td>iha</td>\n",
       "      <td>kareta</td>\n",
       "      <td>iha</td>\n",
       "      <td>diak</td>\n",
       "      <td>iha</td>\n",
       "      <td>ajuda_tebes</td>\n",
       "      <td>inan_aman</td>\n",
       "      <td>uma_rasik</td>\n",
       "      <td>7.2</td>\n",
       "      <td>9.6</td>\n",
       "    </tr>\n",
       "    <tr>\n",
       "      <th>3</th>\n",
       "      <td>Marcelino R Neves</td>\n",
       "      <td>Marcelino R Neves</td>\n",
       "      <td>20200204054</td>\n",
       "      <td>1</td>\n",
       "      <td>1</td>\n",
       "      <td>Besik</td>\n",
       "      <td>pub</td>\n",
       "      <td>pre_sec</td>\n",
       "      <td>sec</td>\n",
       "      <td>dc</td>\n",
       "      <td>...</td>\n",
       "      <td>iha</td>\n",
       "      <td>tp</td>\n",
       "      <td>iha</td>\n",
       "      <td>diak</td>\n",
       "      <td>iha</td>\n",
       "      <td>ajuda_tebes</td>\n",
       "      <td>maun_bin</td>\n",
       "      <td>uma_rasik</td>\n",
       "      <td>7.8</td>\n",
       "      <td>8.5</td>\n",
       "    </tr>\n",
       "    <tr>\n",
       "      <th>4</th>\n",
       "      <td>Joao Soares</td>\n",
       "      <td>Jose Norberto da silva ximenes</td>\n",
       "      <td>20200204047</td>\n",
       "      <td>1</td>\n",
       "      <td>1</td>\n",
       "      <td>Dook</td>\n",
       "      <td>pub</td>\n",
       "      <td>pre_sec</td>\n",
       "      <td>pre_sec</td>\n",
       "      <td>dc</td>\n",
       "      <td>...</td>\n",
       "      <td>laiha</td>\n",
       "      <td>tp</td>\n",
       "      <td>iha</td>\n",
       "      <td>ladun_diak</td>\n",
       "      <td>laiha</td>\n",
       "      <td>ladun_ajuda</td>\n",
       "      <td>familia_seluk</td>\n",
       "      <td>familia_sira_nian_uma</td>\n",
       "      <td>7.5</td>\n",
       "      <td>6.9</td>\n",
       "    </tr>\n",
       "  </tbody>\n",
       "</table>\n",
       "<p>5 rows × 21 columns</p>\n",
       "</div>"
      ],
      "text/plain": [
       "    Naran_Enumerador                           Naran          NRE  Sexo  \\\n",
       "0  Marcelino R Neves            Eurico Rosario Maria  20200204022     1   \n",
       "1  Marcelino R Neves        Alvarino Soares Guterres  20200204003     1   \n",
       "2  Marcelino R Neves         Pedro M. A. Abel Soares  20200204070     1   \n",
       "3  Marcelino R Neves               Marcelino R Neves  20200204054     1   \n",
       "4        Joao Soares  Jose Norberto da silva ximenes  20200204047     1   \n",
       "\n",
       "   Turma Hela_Fatin Eskola_anterior Edukasaun_Inan Edukasaun_Aman  \\\n",
       "0      0      Besik             pri            pri            pri   \n",
       "1      0       Dook             pri            lae             s1   \n",
       "2      1       Dook             mis             s1             s1   \n",
       "3      1      Besik             pub        pre_sec            sec   \n",
       "4      1       Dook             pub        pre_sec        pre_sec   \n",
       "\n",
       "  Profisaun_Inan  ... Aktividade_Extra Transporte Laptop Rede_Internet  \\\n",
       "0             dc  ...            laiha         tp    iha          diak   \n",
       "1             dc  ...            laiha      motor    iha          diak   \n",
       "2             dc  ...              iha     kareta    iha          diak   \n",
       "3             dc  ...              iha         tp    iha          diak   \n",
       "4             dc  ...            laiha         tp    iha    ladun_diak   \n",
       "\n",
       "  Fatin_estuda     Ambiente      Akompanha               Hela_Iha Valor_IP  \\\n",
       "0          iha  ajuda_tebes          mesak              aluga_kos      7.8   \n",
       "1          iha  ajuda_tebes      inan_aman              uma_rasik      7.5   \n",
       "2          iha  ajuda_tebes      inan_aman              uma_rasik      7.2   \n",
       "3          iha  ajuda_tebes       maun_bin              uma_rasik      7.8   \n",
       "4        laiha  ladun_ajuda  familia_seluk  familia_sira_nian_uma      7.5   \n",
       "\n",
       "   Valor_SO  \n",
       "0       8.3  \n",
       "1       5.5  \n",
       "2       9.6  \n",
       "3       8.5  \n",
       "4       6.9  \n",
       "\n",
       "[5 rows x 21 columns]"
      ]
     },
     "execution_count": 23,
     "metadata": {},
     "output_type": "execute_result"
    }
   ],
   "source": [
    "df_mod['Hela_Fatin'] = df_mod['Hela_Fatin_2'].astype('category')\n",
    "df_mod.pop('Hela_Fatin_2')\n",
    "\n",
    "df_mod.head()"
   ]
  },
  {
   "cell_type": "code",
   "execution_count": 24,
   "metadata": {
    "colab": {
     "base_uri": "https://localhost:8080/",
     "height": 677
    },
    "id": "L-EDjKmnBC29",
    "outputId": "8d29ec3b-49d2-48a8-c787-f928ae75971f"
   },
   "outputs": [
    {
     "data": {
      "text/html": [
       "<div>\n",
       "<style scoped>\n",
       "    .dataframe tbody tr th:only-of-type {\n",
       "        vertical-align: middle;\n",
       "    }\n",
       "\n",
       "    .dataframe tbody tr th {\n",
       "        vertical-align: top;\n",
       "    }\n",
       "\n",
       "    .dataframe thead th {\n",
       "        text-align: right;\n",
       "    }\n",
       "</style>\n",
       "<table border=\"1\" class=\"dataframe\">\n",
       "  <thead>\n",
       "    <tr style=\"text-align: right;\">\n",
       "      <th></th>\n",
       "      <th>Hela_Fatin</th>\n",
       "      <th>Hela_enc</th>\n",
       "    </tr>\n",
       "  </thead>\n",
       "  <tbody>\n",
       "    <tr>\n",
       "      <th>46</th>\n",
       "      <td>Dook</td>\n",
       "      <td>1</td>\n",
       "    </tr>\n",
       "    <tr>\n",
       "      <th>14</th>\n",
       "      <td>Besik</td>\n",
       "      <td>0</td>\n",
       "    </tr>\n",
       "    <tr>\n",
       "      <th>27</th>\n",
       "      <td>Dook</td>\n",
       "      <td>1</td>\n",
       "    </tr>\n",
       "    <tr>\n",
       "      <th>40</th>\n",
       "      <td>Besik</td>\n",
       "      <td>0</td>\n",
       "    </tr>\n",
       "    <tr>\n",
       "      <th>5</th>\n",
       "      <td>Besik</td>\n",
       "      <td>0</td>\n",
       "    </tr>\n",
       "    <tr>\n",
       "      <th>32</th>\n",
       "      <td>Dook</td>\n",
       "      <td>1</td>\n",
       "    </tr>\n",
       "    <tr>\n",
       "      <th>1</th>\n",
       "      <td>Dook</td>\n",
       "      <td>1</td>\n",
       "    </tr>\n",
       "    <tr>\n",
       "      <th>3</th>\n",
       "      <td>Besik</td>\n",
       "      <td>0</td>\n",
       "    </tr>\n",
       "    <tr>\n",
       "      <th>7</th>\n",
       "      <td>Dook</td>\n",
       "      <td>1</td>\n",
       "    </tr>\n",
       "    <tr>\n",
       "      <th>31</th>\n",
       "      <td>Besik</td>\n",
       "      <td>0</td>\n",
       "    </tr>\n",
       "    <tr>\n",
       "      <th>49</th>\n",
       "      <td>Dook</td>\n",
       "      <td>1</td>\n",
       "    </tr>\n",
       "    <tr>\n",
       "      <th>50</th>\n",
       "      <td>Dook</td>\n",
       "      <td>1</td>\n",
       "    </tr>\n",
       "    <tr>\n",
       "      <th>23</th>\n",
       "      <td>Dook</td>\n",
       "      <td>1</td>\n",
       "    </tr>\n",
       "    <tr>\n",
       "      <th>17</th>\n",
       "      <td>Dook</td>\n",
       "      <td>1</td>\n",
       "    </tr>\n",
       "    <tr>\n",
       "      <th>8</th>\n",
       "      <td>Besik</td>\n",
       "      <td>0</td>\n",
       "    </tr>\n",
       "    <tr>\n",
       "      <th>38</th>\n",
       "      <td>Dook</td>\n",
       "      <td>1</td>\n",
       "    </tr>\n",
       "    <tr>\n",
       "      <th>54</th>\n",
       "      <td>Dook</td>\n",
       "      <td>1</td>\n",
       "    </tr>\n",
       "    <tr>\n",
       "      <th>51</th>\n",
       "      <td>Besik</td>\n",
       "      <td>0</td>\n",
       "    </tr>\n",
       "    <tr>\n",
       "      <th>19</th>\n",
       "      <td>Dook</td>\n",
       "      <td>1</td>\n",
       "    </tr>\n",
       "    <tr>\n",
       "      <th>43</th>\n",
       "      <td>Dook</td>\n",
       "      <td>1</td>\n",
       "    </tr>\n",
       "  </tbody>\n",
       "</table>\n",
       "</div>"
      ],
      "text/plain": [
       "   Hela_Fatin  Hela_enc\n",
       "46       Dook         1\n",
       "14      Besik         0\n",
       "27       Dook         1\n",
       "40      Besik         0\n",
       "5       Besik         0\n",
       "32       Dook         1\n",
       "1        Dook         1\n",
       "3       Besik         0\n",
       "7        Dook         1\n",
       "31      Besik         0\n",
       "49       Dook         1\n",
       "50       Dook         1\n",
       "23       Dook         1\n",
       "17       Dook         1\n",
       "8       Besik         0\n",
       "38       Dook         1\n",
       "54       Dook         1\n",
       "51      Besik         0\n",
       "19       Dook         1\n",
       "43       Dook         1"
      ]
     },
     "execution_count": 24,
     "metadata": {},
     "output_type": "execute_result"
    }
   ],
   "source": [
    "df_mod['Hela_enc'] = labelencoder.fit_transform(df_mod['Hela_Fatin'])\n",
    "df_mod[['Hela_Fatin', 'Hela_enc']].sample(20)"
   ]
  },
  {
   "cell_type": "code",
   "execution_count": 25,
   "metadata": {
    "colab": {
     "base_uri": "https://localhost:8080/"
    },
    "id": "2aGtTt1iZYeG",
    "outputId": "1c4a083b-c897-4200-a827-cf04ec298182"
   },
   "outputs": [
    {
     "data": {
      "text/plain": [
       "0     0\n",
       "1     1\n",
       "2     1\n",
       "3     0\n",
       "4     1\n",
       "5     0\n",
       "6     0\n",
       "7     1\n",
       "8     0\n",
       "9     0\n",
       "10    0\n",
       "11    1\n",
       "12    0\n",
       "13    0\n",
       "14    0\n",
       "15    0\n",
       "16    0\n",
       "17    1\n",
       "18    0\n",
       "19    1\n",
       "20    1\n",
       "21    0\n",
       "22    1\n",
       "23    1\n",
       "24    1\n",
       "25    1\n",
       "26    1\n",
       "27    1\n",
       "28    1\n",
       "29    1\n",
       "30    0\n",
       "31    0\n",
       "32    1\n",
       "33    0\n",
       "34    0\n",
       "35    1\n",
       "36    1\n",
       "37    0\n",
       "38    1\n",
       "39    1\n",
       "40    0\n",
       "41    0\n",
       "42    0\n",
       "43    1\n",
       "44    1\n",
       "45    0\n",
       "46    1\n",
       "47    1\n",
       "48    0\n",
       "49    1\n",
       "50    1\n",
       "51    0\n",
       "52    1\n",
       "53    0\n",
       "54    1\n",
       "55    1\n",
       "56    1\n",
       "57    0\n",
       "58    1\n",
       "59    0\n",
       "Name: Hela_enc, dtype: int32"
      ]
     },
     "execution_count": 25,
     "metadata": {},
     "output_type": "execute_result"
    }
   ],
   "source": [
    "df_mod['Hela_Fatin'] = df_mod['Hela_enc']\n",
    "df_mod.pop('Hela_enc')"
   ]
  },
  {
   "cell_type": "code",
   "execution_count": 26,
   "metadata": {
    "colab": {
     "base_uri": "https://localhost:8080/",
     "height": 473
    },
    "id": "gMYMYjQebw9p",
    "outputId": "b72cc2c9-b645-4280-c16f-f77ada0c4f50"
   },
   "outputs": [
    {
     "data": {
      "text/html": [
       "<div>\n",
       "<style scoped>\n",
       "    .dataframe tbody tr th:only-of-type {\n",
       "        vertical-align: middle;\n",
       "    }\n",
       "\n",
       "    .dataframe tbody tr th {\n",
       "        vertical-align: top;\n",
       "    }\n",
       "\n",
       "    .dataframe thead th {\n",
       "        text-align: right;\n",
       "    }\n",
       "</style>\n",
       "<table border=\"1\" class=\"dataframe\">\n",
       "  <thead>\n",
       "    <tr style=\"text-align: right;\">\n",
       "      <th></th>\n",
       "      <th>Naran_Enumerador</th>\n",
       "      <th>Naran</th>\n",
       "      <th>NRE</th>\n",
       "      <th>Sexo</th>\n",
       "      <th>Turma</th>\n",
       "      <th>Hela_Fatin</th>\n",
       "      <th>Eskola_anterior</th>\n",
       "      <th>Edukasaun_Inan</th>\n",
       "      <th>Edukasaun_Aman</th>\n",
       "      <th>Profisaun_Inan</th>\n",
       "      <th>...</th>\n",
       "      <th>Aktividade_Extra</th>\n",
       "      <th>Transporte</th>\n",
       "      <th>Laptop</th>\n",
       "      <th>Rede_Internet</th>\n",
       "      <th>Fatin_estuda</th>\n",
       "      <th>Ambiente</th>\n",
       "      <th>Akompanha</th>\n",
       "      <th>Hela_Iha</th>\n",
       "      <th>Valor_IP</th>\n",
       "      <th>Valor_SO</th>\n",
       "    </tr>\n",
       "  </thead>\n",
       "  <tbody>\n",
       "    <tr>\n",
       "      <th>0</th>\n",
       "      <td>Marcelino R Neves</td>\n",
       "      <td>Eurico Rosario Maria</td>\n",
       "      <td>20200204022</td>\n",
       "      <td>1</td>\n",
       "      <td>0</td>\n",
       "      <td>0</td>\n",
       "      <td>pri</td>\n",
       "      <td>pri</td>\n",
       "      <td>pri</td>\n",
       "      <td>dc</td>\n",
       "      <td>...</td>\n",
       "      <td>laiha</td>\n",
       "      <td>tp</td>\n",
       "      <td>iha</td>\n",
       "      <td>diak</td>\n",
       "      <td>iha</td>\n",
       "      <td>ajuda_tebes</td>\n",
       "      <td>mesak</td>\n",
       "      <td>aluga_kos</td>\n",
       "      <td>7.8</td>\n",
       "      <td>8.3</td>\n",
       "    </tr>\n",
       "    <tr>\n",
       "      <th>1</th>\n",
       "      <td>Marcelino R Neves</td>\n",
       "      <td>Alvarino Soares Guterres</td>\n",
       "      <td>20200204003</td>\n",
       "      <td>1</td>\n",
       "      <td>0</td>\n",
       "      <td>1</td>\n",
       "      <td>pri</td>\n",
       "      <td>lae</td>\n",
       "      <td>s1</td>\n",
       "      <td>dc</td>\n",
       "      <td>...</td>\n",
       "      <td>laiha</td>\n",
       "      <td>motor</td>\n",
       "      <td>iha</td>\n",
       "      <td>diak</td>\n",
       "      <td>iha</td>\n",
       "      <td>ajuda_tebes</td>\n",
       "      <td>inan_aman</td>\n",
       "      <td>uma_rasik</td>\n",
       "      <td>7.5</td>\n",
       "      <td>5.5</td>\n",
       "    </tr>\n",
       "    <tr>\n",
       "      <th>2</th>\n",
       "      <td>Marcelino R Neves</td>\n",
       "      <td>Pedro M. A. Abel Soares</td>\n",
       "      <td>20200204070</td>\n",
       "      <td>1</td>\n",
       "      <td>1</td>\n",
       "      <td>1</td>\n",
       "      <td>mis</td>\n",
       "      <td>s1</td>\n",
       "      <td>s1</td>\n",
       "      <td>dc</td>\n",
       "      <td>...</td>\n",
       "      <td>iha</td>\n",
       "      <td>kareta</td>\n",
       "      <td>iha</td>\n",
       "      <td>diak</td>\n",
       "      <td>iha</td>\n",
       "      <td>ajuda_tebes</td>\n",
       "      <td>inan_aman</td>\n",
       "      <td>uma_rasik</td>\n",
       "      <td>7.2</td>\n",
       "      <td>9.6</td>\n",
       "    </tr>\n",
       "    <tr>\n",
       "      <th>3</th>\n",
       "      <td>Marcelino R Neves</td>\n",
       "      <td>Marcelino R Neves</td>\n",
       "      <td>20200204054</td>\n",
       "      <td>1</td>\n",
       "      <td>1</td>\n",
       "      <td>0</td>\n",
       "      <td>pub</td>\n",
       "      <td>pre_sec</td>\n",
       "      <td>sec</td>\n",
       "      <td>dc</td>\n",
       "      <td>...</td>\n",
       "      <td>iha</td>\n",
       "      <td>tp</td>\n",
       "      <td>iha</td>\n",
       "      <td>diak</td>\n",
       "      <td>iha</td>\n",
       "      <td>ajuda_tebes</td>\n",
       "      <td>maun_bin</td>\n",
       "      <td>uma_rasik</td>\n",
       "      <td>7.8</td>\n",
       "      <td>8.5</td>\n",
       "    </tr>\n",
       "    <tr>\n",
       "      <th>4</th>\n",
       "      <td>Joao Soares</td>\n",
       "      <td>Jose Norberto da silva ximenes</td>\n",
       "      <td>20200204047</td>\n",
       "      <td>1</td>\n",
       "      <td>1</td>\n",
       "      <td>1</td>\n",
       "      <td>pub</td>\n",
       "      <td>pre_sec</td>\n",
       "      <td>pre_sec</td>\n",
       "      <td>dc</td>\n",
       "      <td>...</td>\n",
       "      <td>laiha</td>\n",
       "      <td>tp</td>\n",
       "      <td>iha</td>\n",
       "      <td>ladun_diak</td>\n",
       "      <td>laiha</td>\n",
       "      <td>ladun_ajuda</td>\n",
       "      <td>familia_seluk</td>\n",
       "      <td>familia_sira_nian_uma</td>\n",
       "      <td>7.5</td>\n",
       "      <td>6.9</td>\n",
       "    </tr>\n",
       "  </tbody>\n",
       "</table>\n",
       "<p>5 rows × 21 columns</p>\n",
       "</div>"
      ],
      "text/plain": [
       "    Naran_Enumerador                           Naran          NRE  Sexo  \\\n",
       "0  Marcelino R Neves            Eurico Rosario Maria  20200204022     1   \n",
       "1  Marcelino R Neves        Alvarino Soares Guterres  20200204003     1   \n",
       "2  Marcelino R Neves         Pedro M. A. Abel Soares  20200204070     1   \n",
       "3  Marcelino R Neves               Marcelino R Neves  20200204054     1   \n",
       "4        Joao Soares  Jose Norberto da silva ximenes  20200204047     1   \n",
       "\n",
       "   Turma  Hela_Fatin Eskola_anterior Edukasaun_Inan Edukasaun_Aman  \\\n",
       "0      0           0             pri            pri            pri   \n",
       "1      0           1             pri            lae             s1   \n",
       "2      1           1             mis             s1             s1   \n",
       "3      1           0             pub        pre_sec            sec   \n",
       "4      1           1             pub        pre_sec        pre_sec   \n",
       "\n",
       "  Profisaun_Inan  ... Aktividade_Extra Transporte Laptop Rede_Internet  \\\n",
       "0             dc  ...            laiha         tp    iha          diak   \n",
       "1             dc  ...            laiha      motor    iha          diak   \n",
       "2             dc  ...              iha     kareta    iha          diak   \n",
       "3             dc  ...              iha         tp    iha          diak   \n",
       "4             dc  ...            laiha         tp    iha    ladun_diak   \n",
       "\n",
       "  Fatin_estuda     Ambiente      Akompanha               Hela_Iha Valor_IP  \\\n",
       "0          iha  ajuda_tebes          mesak              aluga_kos      7.8   \n",
       "1          iha  ajuda_tebes      inan_aman              uma_rasik      7.5   \n",
       "2          iha  ajuda_tebes      inan_aman              uma_rasik      7.2   \n",
       "3          iha  ajuda_tebes       maun_bin              uma_rasik      7.8   \n",
       "4        laiha  ladun_ajuda  familia_seluk  familia_sira_nian_uma      7.5   \n",
       "\n",
       "   Valor_SO  \n",
       "0       8.3  \n",
       "1       5.5  \n",
       "2       9.6  \n",
       "3       8.5  \n",
       "4       6.9  \n",
       "\n",
       "[5 rows x 21 columns]"
      ]
     },
     "execution_count": 26,
     "metadata": {},
     "output_type": "execute_result"
    }
   ],
   "source": [
    "df_mod.head()"
   ]
  },
  {
   "cell_type": "markdown",
   "metadata": {
    "id": "YFyz4pwTs1rR"
   },
   "source": [
    "Halo Multiple Encoding ba Koluna Sira"
   ]
  },
  {
   "cell_type": "code",
   "execution_count": 27,
   "metadata": {
    "id": "pIICsoOvcIte"
   },
   "outputs": [],
   "source": [
    "from sklearn.pipeline import Pipeline\n",
    "\n",
    "class MultiColumnLabelEncoder:\n",
    "    def __init__(self,columns = None):\n",
    "        self.columns = columns # array of column names to encode\n",
    "\n",
    "    def fit(self,X,y=None):\n",
    "        return self # not relevant here\n",
    "\n",
    "    def transform(self,X):\n",
    "        '''\n",
    "        Transforms columns of X specified in self.columns using\n",
    "        LabelEncoder(). If no columns specified, transforms all\n",
    "        columns in X.\n",
    "        '''\n",
    "        output = X.copy()\n",
    "        if self.columns is not None:\n",
    "            for col in self.columns:\n",
    "                output[col] = LabelEncoder().fit_transform(output[col])\n",
    "        else:\n",
    "            for colname,col in output.iteritems():\n",
    "                output[colname] = LabelEncoder().fit_transform(col)\n",
    "        return output\n",
    "\n",
    "    def fit_transform(self,X,y=None):\n",
    "        return self.fit(X,y).transform(X)"
   ]
  },
  {
   "cell_type": "code",
   "execution_count": 28,
   "metadata": {
    "id": "7ZWbnOGRdEjM"
   },
   "outputs": [],
   "source": [
    "df_mod = MultiColumnLabelEncoder(columns = ['Eskola_anterior', 'Edukasaun_Inan', 'Edukasaun_Aman', 'Profisaun_Inan', 'Profisaun_Aman',\n",
    "                                   'Aktividade_Extra','Transporte', 'Laptop', 'Rede_Internet', 'Fatin_estuda', 'Ambiente', 'Akompanha', 'Hela_Iha']).fit_transform(df_mod)"
   ]
  },
  {
   "cell_type": "code",
   "execution_count": 29,
   "metadata": {
    "colab": {
     "base_uri": "https://localhost:8080/",
     "height": 890
    },
    "id": "IoCkiw2-h-n5",
    "outputId": "967f8d71-27b6-4a37-b22c-6146d5c6c249"
   },
   "outputs": [
    {
     "data": {
      "text/html": [
       "<div>\n",
       "<style scoped>\n",
       "    .dataframe tbody tr th:only-of-type {\n",
       "        vertical-align: middle;\n",
       "    }\n",
       "\n",
       "    .dataframe tbody tr th {\n",
       "        vertical-align: top;\n",
       "    }\n",
       "\n",
       "    .dataframe thead th {\n",
       "        text-align: right;\n",
       "    }\n",
       "</style>\n",
       "<table border=\"1\" class=\"dataframe\">\n",
       "  <thead>\n",
       "    <tr style=\"text-align: right;\">\n",
       "      <th></th>\n",
       "      <th>Naran_Enumerador</th>\n",
       "      <th>Naran</th>\n",
       "      <th>NRE</th>\n",
       "      <th>Sexo</th>\n",
       "      <th>Turma</th>\n",
       "      <th>Hela_Fatin</th>\n",
       "      <th>Eskola_anterior</th>\n",
       "      <th>Edukasaun_Inan</th>\n",
       "      <th>Edukasaun_Aman</th>\n",
       "      <th>Profisaun_Inan</th>\n",
       "      <th>...</th>\n",
       "      <th>Aktividade_Extra</th>\n",
       "      <th>Transporte</th>\n",
       "      <th>Laptop</th>\n",
       "      <th>Rede_Internet</th>\n",
       "      <th>Fatin_estuda</th>\n",
       "      <th>Ambiente</th>\n",
       "      <th>Akompanha</th>\n",
       "      <th>Hela_Iha</th>\n",
       "      <th>Valor_IP</th>\n",
       "      <th>Valor_SO</th>\n",
       "    </tr>\n",
       "  </thead>\n",
       "  <tbody>\n",
       "    <tr>\n",
       "      <th>0</th>\n",
       "      <td>Marcelino R Neves</td>\n",
       "      <td>Eurico Rosario Maria</td>\n",
       "      <td>20200204022</td>\n",
       "      <td>1</td>\n",
       "      <td>0</td>\n",
       "      <td>0</td>\n",
       "      <td>1</td>\n",
       "      <td>3</td>\n",
       "      <td>3</td>\n",
       "      <td>1</td>\n",
       "      <td>...</td>\n",
       "      <td>1</td>\n",
       "      <td>2</td>\n",
       "      <td>0</td>\n",
       "      <td>0</td>\n",
       "      <td>0</td>\n",
       "      <td>0</td>\n",
       "      <td>3</td>\n",
       "      <td>0</td>\n",
       "      <td>7.8</td>\n",
       "      <td>8.3</td>\n",
       "    </tr>\n",
       "    <tr>\n",
       "      <th>1</th>\n",
       "      <td>Marcelino R Neves</td>\n",
       "      <td>Alvarino Soares Guterres</td>\n",
       "      <td>20200204003</td>\n",
       "      <td>1</td>\n",
       "      <td>0</td>\n",
       "      <td>1</td>\n",
       "      <td>1</td>\n",
       "      <td>1</td>\n",
       "      <td>4</td>\n",
       "      <td>1</td>\n",
       "      <td>...</td>\n",
       "      <td>1</td>\n",
       "      <td>1</td>\n",
       "      <td>0</td>\n",
       "      <td>0</td>\n",
       "      <td>0</td>\n",
       "      <td>0</td>\n",
       "      <td>1</td>\n",
       "      <td>2</td>\n",
       "      <td>7.5</td>\n",
       "      <td>5.5</td>\n",
       "    </tr>\n",
       "    <tr>\n",
       "      <th>2</th>\n",
       "      <td>Marcelino R Neves</td>\n",
       "      <td>Pedro M. A. Abel Soares</td>\n",
       "      <td>20200204070</td>\n",
       "      <td>1</td>\n",
       "      <td>1</td>\n",
       "      <td>1</td>\n",
       "      <td>0</td>\n",
       "      <td>4</td>\n",
       "      <td>4</td>\n",
       "      <td>1</td>\n",
       "      <td>...</td>\n",
       "      <td>0</td>\n",
       "      <td>0</td>\n",
       "      <td>0</td>\n",
       "      <td>0</td>\n",
       "      <td>0</td>\n",
       "      <td>0</td>\n",
       "      <td>1</td>\n",
       "      <td>2</td>\n",
       "      <td>7.2</td>\n",
       "      <td>9.6</td>\n",
       "    </tr>\n",
       "    <tr>\n",
       "      <th>3</th>\n",
       "      <td>Marcelino R Neves</td>\n",
       "      <td>Marcelino R Neves</td>\n",
       "      <td>20200204054</td>\n",
       "      <td>1</td>\n",
       "      <td>1</td>\n",
       "      <td>0</td>\n",
       "      <td>2</td>\n",
       "      <td>2</td>\n",
       "      <td>6</td>\n",
       "      <td>1</td>\n",
       "      <td>...</td>\n",
       "      <td>0</td>\n",
       "      <td>2</td>\n",
       "      <td>0</td>\n",
       "      <td>0</td>\n",
       "      <td>0</td>\n",
       "      <td>0</td>\n",
       "      <td>2</td>\n",
       "      <td>2</td>\n",
       "      <td>7.8</td>\n",
       "      <td>8.5</td>\n",
       "    </tr>\n",
       "    <tr>\n",
       "      <th>4</th>\n",
       "      <td>Joao Soares</td>\n",
       "      <td>Jose Norberto da silva ximenes</td>\n",
       "      <td>20200204047</td>\n",
       "      <td>1</td>\n",
       "      <td>1</td>\n",
       "      <td>1</td>\n",
       "      <td>2</td>\n",
       "      <td>2</td>\n",
       "      <td>2</td>\n",
       "      <td>1</td>\n",
       "      <td>...</td>\n",
       "      <td>1</td>\n",
       "      <td>2</td>\n",
       "      <td>0</td>\n",
       "      <td>1</td>\n",
       "      <td>1</td>\n",
       "      <td>2</td>\n",
       "      <td>0</td>\n",
       "      <td>1</td>\n",
       "      <td>7.5</td>\n",
       "      <td>6.9</td>\n",
       "    </tr>\n",
       "    <tr>\n",
       "      <th>5</th>\n",
       "      <td>Frederico Marcal</td>\n",
       "      <td>Jenesia Aito da Costa dos Santos Lopes</td>\n",
       "      <td>20200204040</td>\n",
       "      <td>0</td>\n",
       "      <td>1</td>\n",
       "      <td>0</td>\n",
       "      <td>1</td>\n",
       "      <td>4</td>\n",
       "      <td>4</td>\n",
       "      <td>2</td>\n",
       "      <td>...</td>\n",
       "      <td>0</td>\n",
       "      <td>2</td>\n",
       "      <td>0</td>\n",
       "      <td>1</td>\n",
       "      <td>0</td>\n",
       "      <td>0</td>\n",
       "      <td>1</td>\n",
       "      <td>0</td>\n",
       "      <td>8.2</td>\n",
       "      <td>7.8</td>\n",
       "    </tr>\n",
       "    <tr>\n",
       "      <th>6</th>\n",
       "      <td>Frederico Marcal</td>\n",
       "      <td>Joaquim Klau de Jesus Soares</td>\n",
       "      <td>20200204045</td>\n",
       "      <td>1</td>\n",
       "      <td>1</td>\n",
       "      <td>0</td>\n",
       "      <td>0</td>\n",
       "      <td>5</td>\n",
       "      <td>0</td>\n",
       "      <td>1</td>\n",
       "      <td>...</td>\n",
       "      <td>0</td>\n",
       "      <td>2</td>\n",
       "      <td>0</td>\n",
       "      <td>1</td>\n",
       "      <td>0</td>\n",
       "      <td>0</td>\n",
       "      <td>4</td>\n",
       "      <td>1</td>\n",
       "      <td>7.7</td>\n",
       "      <td>9.1</td>\n",
       "    </tr>\n",
       "    <tr>\n",
       "      <th>7</th>\n",
       "      <td>Frederico Marcal</td>\n",
       "      <td>Frederico Viegas Orlando Marcal</td>\n",
       "      <td>20200204080</td>\n",
       "      <td>1</td>\n",
       "      <td>1</td>\n",
       "      <td>1</td>\n",
       "      <td>1</td>\n",
       "      <td>5</td>\n",
       "      <td>5</td>\n",
       "      <td>2</td>\n",
       "      <td>...</td>\n",
       "      <td>0</td>\n",
       "      <td>1</td>\n",
       "      <td>0</td>\n",
       "      <td>0</td>\n",
       "      <td>0</td>\n",
       "      <td>0</td>\n",
       "      <td>1</td>\n",
       "      <td>2</td>\n",
       "      <td>8.2</td>\n",
       "      <td>9.3</td>\n",
       "    </tr>\n",
       "    <tr>\n",
       "      <th>8</th>\n",
       "      <td>Joao Soares</td>\n",
       "      <td>Teozino Emiliano Martins Salsinha</td>\n",
       "      <td>20200204073</td>\n",
       "      <td>1</td>\n",
       "      <td>1</td>\n",
       "      <td>0</td>\n",
       "      <td>1</td>\n",
       "      <td>4</td>\n",
       "      <td>5</td>\n",
       "      <td>2</td>\n",
       "      <td>...</td>\n",
       "      <td>1</td>\n",
       "      <td>1</td>\n",
       "      <td>0</td>\n",
       "      <td>1</td>\n",
       "      <td>0</td>\n",
       "      <td>1</td>\n",
       "      <td>1</td>\n",
       "      <td>2</td>\n",
       "      <td>7.7</td>\n",
       "      <td>8.5</td>\n",
       "    </tr>\n",
       "    <tr>\n",
       "      <th>9</th>\n",
       "      <td>Joao Soares</td>\n",
       "      <td>Isedoro Casimiro</td>\n",
       "      <td>20200204078</td>\n",
       "      <td>1</td>\n",
       "      <td>1</td>\n",
       "      <td>0</td>\n",
       "      <td>0</td>\n",
       "      <td>1</td>\n",
       "      <td>2</td>\n",
       "      <td>1</td>\n",
       "      <td>...</td>\n",
       "      <td>1</td>\n",
       "      <td>2</td>\n",
       "      <td>0</td>\n",
       "      <td>1</td>\n",
       "      <td>0</td>\n",
       "      <td>1</td>\n",
       "      <td>3</td>\n",
       "      <td>0</td>\n",
       "      <td>7.8</td>\n",
       "      <td>8.4</td>\n",
       "    </tr>\n",
       "  </tbody>\n",
       "</table>\n",
       "<p>10 rows × 21 columns</p>\n",
       "</div>"
      ],
      "text/plain": [
       "    Naran_Enumerador                                   Naran          NRE  \\\n",
       "0  Marcelino R Neves                    Eurico Rosario Maria  20200204022   \n",
       "1  Marcelino R Neves                Alvarino Soares Guterres  20200204003   \n",
       "2  Marcelino R Neves                 Pedro M. A. Abel Soares  20200204070   \n",
       "3  Marcelino R Neves                       Marcelino R Neves  20200204054   \n",
       "4        Joao Soares          Jose Norberto da silva ximenes  20200204047   \n",
       "5   Frederico Marcal  Jenesia Aito da Costa dos Santos Lopes  20200204040   \n",
       "6   Frederico Marcal            Joaquim Klau de Jesus Soares  20200204045   \n",
       "7   Frederico Marcal         Frederico Viegas Orlando Marcal  20200204080   \n",
       "8        Joao Soares       Teozino Emiliano Martins Salsinha  20200204073   \n",
       "9        Joao Soares                        Isedoro Casimiro  20200204078   \n",
       "\n",
       "   Sexo  Turma  Hela_Fatin  Eskola_anterior  Edukasaun_Inan  Edukasaun_Aman  \\\n",
       "0     1      0           0                1               3               3   \n",
       "1     1      0           1                1               1               4   \n",
       "2     1      1           1                0               4               4   \n",
       "3     1      1           0                2               2               6   \n",
       "4     1      1           1                2               2               2   \n",
       "5     0      1           0                1               4               4   \n",
       "6     1      1           0                0               5               0   \n",
       "7     1      1           1                1               5               5   \n",
       "8     1      1           0                1               4               5   \n",
       "9     1      1           0                0               1               2   \n",
       "\n",
       "   Profisaun_Inan  ...  Aktividade_Extra  Transporte  Laptop  Rede_Internet  \\\n",
       "0               1  ...                 1           2       0              0   \n",
       "1               1  ...                 1           1       0              0   \n",
       "2               1  ...                 0           0       0              0   \n",
       "3               1  ...                 0           2       0              0   \n",
       "4               1  ...                 1           2       0              1   \n",
       "5               2  ...                 0           2       0              1   \n",
       "6               1  ...                 0           2       0              1   \n",
       "7               2  ...                 0           1       0              0   \n",
       "8               2  ...                 1           1       0              1   \n",
       "9               1  ...                 1           2       0              1   \n",
       "\n",
       "   Fatin_estuda  Ambiente  Akompanha  Hela_Iha  Valor_IP  Valor_SO  \n",
       "0             0         0          3         0       7.8       8.3  \n",
       "1             0         0          1         2       7.5       5.5  \n",
       "2             0         0          1         2       7.2       9.6  \n",
       "3             0         0          2         2       7.8       8.5  \n",
       "4             1         2          0         1       7.5       6.9  \n",
       "5             0         0          1         0       8.2       7.8  \n",
       "6             0         0          4         1       7.7       9.1  \n",
       "7             0         0          1         2       8.2       9.3  \n",
       "8             0         1          1         2       7.7       8.5  \n",
       "9             0         1          3         0       7.8       8.4  \n",
       "\n",
       "[10 rows x 21 columns]"
      ]
     },
     "execution_count": 29,
     "metadata": {},
     "output_type": "execute_result"
    }
   ],
   "source": [
    "df_mod.head(10)"
   ]
  },
  {
   "cell_type": "code",
   "execution_count": 30,
   "metadata": {
    "colab": {
     "base_uri": "https://localhost:8080/",
     "height": 890
    },
    "id": "ubIYg3bDiOlZ",
    "outputId": "c808cc22-7df9-4259-9baf-f9aa6b554850"
   },
   "outputs": [
    {
     "data": {
      "text/html": [
       "<div>\n",
       "<style scoped>\n",
       "    .dataframe tbody tr th:only-of-type {\n",
       "        vertical-align: middle;\n",
       "    }\n",
       "\n",
       "    .dataframe tbody tr th {\n",
       "        vertical-align: top;\n",
       "    }\n",
       "\n",
       "    .dataframe thead th {\n",
       "        text-align: right;\n",
       "    }\n",
       "</style>\n",
       "<table border=\"1\" class=\"dataframe\">\n",
       "  <thead>\n",
       "    <tr style=\"text-align: right;\">\n",
       "      <th></th>\n",
       "      <th>Naran_Enumerador</th>\n",
       "      <th>Naran</th>\n",
       "      <th>NRE</th>\n",
       "      <th>Sexo</th>\n",
       "      <th>Turma</th>\n",
       "      <th>Hela_Fatin</th>\n",
       "      <th>Eskola_anterior</th>\n",
       "      <th>Edukasaun_Inan</th>\n",
       "      <th>Edukasaun_Aman</th>\n",
       "      <th>Profisaun_Inan</th>\n",
       "      <th>...</th>\n",
       "      <th>Aktividade_Extra</th>\n",
       "      <th>Transporte</th>\n",
       "      <th>Laptop</th>\n",
       "      <th>Rede_Internet</th>\n",
       "      <th>Fatin_estuda</th>\n",
       "      <th>Ambiente</th>\n",
       "      <th>Akompanha</th>\n",
       "      <th>Hela_Iha</th>\n",
       "      <th>Valor_IP</th>\n",
       "      <th>Valor_SO</th>\n",
       "    </tr>\n",
       "  </thead>\n",
       "  <tbody>\n",
       "    <tr>\n",
       "      <th>0</th>\n",
       "      <td>Marcelino R Neves</td>\n",
       "      <td>Eurico Rosario Maria</td>\n",
       "      <td>20200204022</td>\n",
       "      <td>1</td>\n",
       "      <td>0</td>\n",
       "      <td>0</td>\n",
       "      <td>pri</td>\n",
       "      <td>pri</td>\n",
       "      <td>pri</td>\n",
       "      <td>dc</td>\n",
       "      <td>...</td>\n",
       "      <td>laiha</td>\n",
       "      <td>tp</td>\n",
       "      <td>iha</td>\n",
       "      <td>diak</td>\n",
       "      <td>iha</td>\n",
       "      <td>ajuda_tebes</td>\n",
       "      <td>mesak</td>\n",
       "      <td>aluga_kos</td>\n",
       "      <td>7.8</td>\n",
       "      <td>8.3</td>\n",
       "    </tr>\n",
       "    <tr>\n",
       "      <th>1</th>\n",
       "      <td>Marcelino R Neves</td>\n",
       "      <td>Alvarino Soares Guterres</td>\n",
       "      <td>20200204003</td>\n",
       "      <td>1</td>\n",
       "      <td>0</td>\n",
       "      <td>1</td>\n",
       "      <td>pri</td>\n",
       "      <td>lae</td>\n",
       "      <td>s1</td>\n",
       "      <td>dc</td>\n",
       "      <td>...</td>\n",
       "      <td>laiha</td>\n",
       "      <td>motor</td>\n",
       "      <td>iha</td>\n",
       "      <td>diak</td>\n",
       "      <td>iha</td>\n",
       "      <td>ajuda_tebes</td>\n",
       "      <td>inan_aman</td>\n",
       "      <td>uma_rasik</td>\n",
       "      <td>7.5</td>\n",
       "      <td>5.5</td>\n",
       "    </tr>\n",
       "    <tr>\n",
       "      <th>2</th>\n",
       "      <td>Marcelino R Neves</td>\n",
       "      <td>Pedro M. A. Abel Soares</td>\n",
       "      <td>20200204070</td>\n",
       "      <td>1</td>\n",
       "      <td>1</td>\n",
       "      <td>1</td>\n",
       "      <td>mis</td>\n",
       "      <td>s1</td>\n",
       "      <td>s1</td>\n",
       "      <td>dc</td>\n",
       "      <td>...</td>\n",
       "      <td>iha</td>\n",
       "      <td>kareta</td>\n",
       "      <td>iha</td>\n",
       "      <td>diak</td>\n",
       "      <td>iha</td>\n",
       "      <td>ajuda_tebes</td>\n",
       "      <td>inan_aman</td>\n",
       "      <td>uma_rasik</td>\n",
       "      <td>7.2</td>\n",
       "      <td>9.6</td>\n",
       "    </tr>\n",
       "    <tr>\n",
       "      <th>3</th>\n",
       "      <td>Marcelino R Neves</td>\n",
       "      <td>Marcelino R Neves</td>\n",
       "      <td>20200204054</td>\n",
       "      <td>1</td>\n",
       "      <td>1</td>\n",
       "      <td>0</td>\n",
       "      <td>pub</td>\n",
       "      <td>pre_sec</td>\n",
       "      <td>sec</td>\n",
       "      <td>dc</td>\n",
       "      <td>...</td>\n",
       "      <td>iha</td>\n",
       "      <td>tp</td>\n",
       "      <td>iha</td>\n",
       "      <td>diak</td>\n",
       "      <td>iha</td>\n",
       "      <td>ajuda_tebes</td>\n",
       "      <td>maun_bin</td>\n",
       "      <td>uma_rasik</td>\n",
       "      <td>7.8</td>\n",
       "      <td>8.5</td>\n",
       "    </tr>\n",
       "    <tr>\n",
       "      <th>4</th>\n",
       "      <td>Joao Soares</td>\n",
       "      <td>Jose Norberto da silva ximenes</td>\n",
       "      <td>20200204047</td>\n",
       "      <td>1</td>\n",
       "      <td>1</td>\n",
       "      <td>1</td>\n",
       "      <td>pub</td>\n",
       "      <td>pre_sec</td>\n",
       "      <td>pre_sec</td>\n",
       "      <td>dc</td>\n",
       "      <td>...</td>\n",
       "      <td>laiha</td>\n",
       "      <td>tp</td>\n",
       "      <td>iha</td>\n",
       "      <td>ladun_diak</td>\n",
       "      <td>laiha</td>\n",
       "      <td>ladun_ajuda</td>\n",
       "      <td>familia_seluk</td>\n",
       "      <td>familia_sira_nian_uma</td>\n",
       "      <td>7.5</td>\n",
       "      <td>6.9</td>\n",
       "    </tr>\n",
       "    <tr>\n",
       "      <th>5</th>\n",
       "      <td>Frederico Marcal</td>\n",
       "      <td>Jenesia Aito da Costa dos Santos Lopes</td>\n",
       "      <td>20200204040</td>\n",
       "      <td>0</td>\n",
       "      <td>1</td>\n",
       "      <td>0</td>\n",
       "      <td>pri</td>\n",
       "      <td>s1</td>\n",
       "      <td>s1</td>\n",
       "      <td>fun</td>\n",
       "      <td>...</td>\n",
       "      <td>iha</td>\n",
       "      <td>tp</td>\n",
       "      <td>iha</td>\n",
       "      <td>ladun_diak</td>\n",
       "      <td>iha</td>\n",
       "      <td>ajuda_tebes</td>\n",
       "      <td>inan_aman</td>\n",
       "      <td>aluga_kos</td>\n",
       "      <td>8.2</td>\n",
       "      <td>7.8</td>\n",
       "    </tr>\n",
       "    <tr>\n",
       "      <th>6</th>\n",
       "      <td>Frederico Marcal</td>\n",
       "      <td>Joaquim Klau de Jesus Soares</td>\n",
       "      <td>20200204045</td>\n",
       "      <td>1</td>\n",
       "      <td>1</td>\n",
       "      <td>0</td>\n",
       "      <td>mis</td>\n",
       "      <td>sec</td>\n",
       "      <td>d3</td>\n",
       "      <td>dc</td>\n",
       "      <td>...</td>\n",
       "      <td>iha</td>\n",
       "      <td>tp</td>\n",
       "      <td>iha</td>\n",
       "      <td>ladun_diak</td>\n",
       "      <td>iha</td>\n",
       "      <td>ajuda_tebes</td>\n",
       "      <td>tio_tian</td>\n",
       "      <td>familia_sira_nian_uma</td>\n",
       "      <td>7.7</td>\n",
       "      <td>9.1</td>\n",
       "    </tr>\n",
       "    <tr>\n",
       "      <th>7</th>\n",
       "      <td>Frederico Marcal</td>\n",
       "      <td>Frederico Viegas Orlando Marcal</td>\n",
       "      <td>20200204080</td>\n",
       "      <td>1</td>\n",
       "      <td>1</td>\n",
       "      <td>1</td>\n",
       "      <td>pri</td>\n",
       "      <td>sec</td>\n",
       "      <td>s3</td>\n",
       "      <td>fun</td>\n",
       "      <td>...</td>\n",
       "      <td>iha</td>\n",
       "      <td>motor</td>\n",
       "      <td>iha</td>\n",
       "      <td>diak</td>\n",
       "      <td>iha</td>\n",
       "      <td>ajuda_tebes</td>\n",
       "      <td>inan_aman</td>\n",
       "      <td>uma_rasik</td>\n",
       "      <td>8.2</td>\n",
       "      <td>9.3</td>\n",
       "    </tr>\n",
       "    <tr>\n",
       "      <th>8</th>\n",
       "      <td>Joao Soares</td>\n",
       "      <td>Teozino Emiliano Martins Salsinha</td>\n",
       "      <td>20200204073</td>\n",
       "      <td>1</td>\n",
       "      <td>1</td>\n",
       "      <td>0</td>\n",
       "      <td>pri</td>\n",
       "      <td>s1</td>\n",
       "      <td>s3</td>\n",
       "      <td>fun</td>\n",
       "      <td>...</td>\n",
       "      <td>laiha</td>\n",
       "      <td>motor</td>\n",
       "      <td>iha</td>\n",
       "      <td>ladun_diak</td>\n",
       "      <td>iha</td>\n",
       "      <td>baibain</td>\n",
       "      <td>inan_aman</td>\n",
       "      <td>uma_rasik</td>\n",
       "      <td>7.7</td>\n",
       "      <td>8.5</td>\n",
       "    </tr>\n",
       "    <tr>\n",
       "      <th>9</th>\n",
       "      <td>Joao Soares</td>\n",
       "      <td>Isedoro Casimiro</td>\n",
       "      <td>20200204078</td>\n",
       "      <td>1</td>\n",
       "      <td>1</td>\n",
       "      <td>0</td>\n",
       "      <td>mis</td>\n",
       "      <td>lae</td>\n",
       "      <td>pre_sec</td>\n",
       "      <td>dc</td>\n",
       "      <td>...</td>\n",
       "      <td>laiha</td>\n",
       "      <td>tp</td>\n",
       "      <td>iha</td>\n",
       "      <td>ladun_diak</td>\n",
       "      <td>iha</td>\n",
       "      <td>baibain</td>\n",
       "      <td>mesak</td>\n",
       "      <td>aluga_kos</td>\n",
       "      <td>7.8</td>\n",
       "      <td>8.4</td>\n",
       "    </tr>\n",
       "  </tbody>\n",
       "</table>\n",
       "<p>10 rows × 21 columns</p>\n",
       "</div>"
      ],
      "text/plain": [
       "    Naran_Enumerador                                   Naran          NRE  \\\n",
       "0  Marcelino R Neves                    Eurico Rosario Maria  20200204022   \n",
       "1  Marcelino R Neves                Alvarino Soares Guterres  20200204003   \n",
       "2  Marcelino R Neves                 Pedro M. A. Abel Soares  20200204070   \n",
       "3  Marcelino R Neves                       Marcelino R Neves  20200204054   \n",
       "4        Joao Soares          Jose Norberto da silva ximenes  20200204047   \n",
       "5   Frederico Marcal  Jenesia Aito da Costa dos Santos Lopes  20200204040   \n",
       "6   Frederico Marcal            Joaquim Klau de Jesus Soares  20200204045   \n",
       "7   Frederico Marcal         Frederico Viegas Orlando Marcal  20200204080   \n",
       "8        Joao Soares       Teozino Emiliano Martins Salsinha  20200204073   \n",
       "9        Joao Soares                        Isedoro Casimiro  20200204078   \n",
       "\n",
       "   Sexo  Turma  Hela_Fatin Eskola_anterior Edukasaun_Inan Edukasaun_Aman  \\\n",
       "0     1      0           0             pri            pri            pri   \n",
       "1     1      0           1             pri            lae             s1   \n",
       "2     1      1           1             mis             s1             s1   \n",
       "3     1      1           0             pub        pre_sec            sec   \n",
       "4     1      1           1             pub        pre_sec        pre_sec   \n",
       "5     0      1           0             pri             s1             s1   \n",
       "6     1      1           0             mis            sec             d3   \n",
       "7     1      1           1             pri            sec             s3   \n",
       "8     1      1           0             pri             s1             s3   \n",
       "9     1      1           0             mis            lae        pre_sec   \n",
       "\n",
       "  Profisaun_Inan  ... Aktividade_Extra Transporte Laptop Rede_Internet  \\\n",
       "0             dc  ...            laiha         tp    iha          diak   \n",
       "1             dc  ...            laiha      motor    iha          diak   \n",
       "2             dc  ...              iha     kareta    iha          diak   \n",
       "3             dc  ...              iha         tp    iha          diak   \n",
       "4             dc  ...            laiha         tp    iha    ladun_diak   \n",
       "5            fun  ...              iha         tp    iha    ladun_diak   \n",
       "6             dc  ...              iha         tp    iha    ladun_diak   \n",
       "7            fun  ...              iha      motor    iha          diak   \n",
       "8            fun  ...            laiha      motor    iha    ladun_diak   \n",
       "9             dc  ...            laiha         tp    iha    ladun_diak   \n",
       "\n",
       "  Fatin_estuda     Ambiente      Akompanha               Hela_Iha Valor_IP  \\\n",
       "0          iha  ajuda_tebes          mesak              aluga_kos      7.8   \n",
       "1          iha  ajuda_tebes      inan_aman              uma_rasik      7.5   \n",
       "2          iha  ajuda_tebes      inan_aman              uma_rasik      7.2   \n",
       "3          iha  ajuda_tebes       maun_bin              uma_rasik      7.8   \n",
       "4        laiha  ladun_ajuda  familia_seluk  familia_sira_nian_uma      7.5   \n",
       "5          iha  ajuda_tebes      inan_aman              aluga_kos      8.2   \n",
       "6          iha  ajuda_tebes       tio_tian  familia_sira_nian_uma      7.7   \n",
       "7          iha  ajuda_tebes      inan_aman              uma_rasik      8.2   \n",
       "8          iha      baibain      inan_aman              uma_rasik      7.7   \n",
       "9          iha      baibain          mesak              aluga_kos      7.8   \n",
       "\n",
       "   Valor_SO  \n",
       "0       8.3  \n",
       "1       5.5  \n",
       "2       9.6  \n",
       "3       8.5  \n",
       "4       6.9  \n",
       "5       7.8  \n",
       "6       9.1  \n",
       "7       9.3  \n",
       "8       8.5  \n",
       "9       8.4  \n",
       "\n",
       "[10 rows x 21 columns]"
      ]
     },
     "execution_count": 30,
     "metadata": {},
     "output_type": "execute_result"
    }
   ],
   "source": [
    "df.head(10)"
   ]
  },
  {
   "cell_type": "markdown",
   "metadata": {
    "id": "DO5uY8gashkz"
   },
   "source": [
    "Cek Dadus sira ne'ebe Encoding ona iha value hanesan ho Dadus Orijinal (Seidauk Encoding)"
   ]
  },
  {
   "cell_type": "code",
   "execution_count": 31,
   "metadata": {
    "colab": {
     "base_uri": "https://localhost:8080/"
    },
    "id": "PzXCh1lXiSNB",
    "outputId": "1fd9bcdf-53c6-4602-d037-66e601b4ee7a"
   },
   "outputs": [
    {
     "data": {
      "text/plain": [
       "pri    38\n",
       "pub    17\n",
       "mis     5\n",
       "Name: Eskola_anterior, dtype: int64"
      ]
     },
     "execution_count": 31,
     "metadata": {},
     "output_type": "execute_result"
    }
   ],
   "source": [
    "df['Eskola_anterior'].value_counts()"
   ]
  },
  {
   "cell_type": "code",
   "execution_count": 32,
   "metadata": {
    "colab": {
     "base_uri": "https://localhost:8080/"
    },
    "id": "Hu3nBJ0RkP7T",
    "outputId": "9c682dc4-a197-4eb6-bad7-0984d8adedd1"
   },
   "outputs": [
    {
     "data": {
      "text/plain": [
       "1    38\n",
       "2    17\n",
       "0     5\n",
       "Name: Eskola_anterior, dtype: int64"
      ]
     },
     "execution_count": 32,
     "metadata": {},
     "output_type": "execute_result"
    }
   ],
   "source": [
    "df_mod['Eskola_anterior'].value_counts()"
   ]
  },
  {
   "cell_type": "code",
   "execution_count": 33,
   "metadata": {
    "colab": {
     "base_uri": "https://localhost:8080/"
    },
    "id": "4TDkzaBfkSXC",
    "outputId": "1a379451-b392-4f52-f67a-3c9544941ac4"
   },
   "outputs": [
    {
     "data": {
      "text/plain": [
       "lae        20\n",
       "sec        20\n",
       "s1          7\n",
       "pri         5\n",
       "pre_sec     5\n",
       "d3          3\n",
       "Name: Edukasaun_Inan, dtype: int64"
      ]
     },
     "execution_count": 33,
     "metadata": {},
     "output_type": "execute_result"
    }
   ],
   "source": [
    "df['Edukasaun_Inan'].value_counts()"
   ]
  },
  {
   "cell_type": "code",
   "execution_count": 34,
   "metadata": {
    "colab": {
     "base_uri": "https://localhost:8080/"
    },
    "id": "fu1V5WCKkoIZ",
    "outputId": "006acf3a-da65-47d1-bd56-7a2e5b19609f"
   },
   "outputs": [
    {
     "data": {
      "text/plain": [
       "1    20\n",
       "5    20\n",
       "4     7\n",
       "3     5\n",
       "2     5\n",
       "0     3\n",
       "Name: Edukasaun_Inan, dtype: int64"
      ]
     },
     "execution_count": 34,
     "metadata": {},
     "output_type": "execute_result"
    }
   ],
   "source": [
    "df_mod['Edukasaun_Inan'].value_counts()"
   ]
  },
  {
   "cell_type": "code",
   "execution_count": 35,
   "metadata": {
    "colab": {
     "base_uri": "https://localhost:8080/"
    },
    "id": "QqfiywHgkqhI",
    "outputId": "f0a3d4b0-c783-4aaf-b105-474e396dc58b"
   },
   "outputs": [
    {
     "data": {
      "text/plain": [
       "lae        15\n",
       "s1         11\n",
       "pri         9\n",
       "sec         9\n",
       "pre_sec     7\n",
       "d3          7\n",
       "s3          2\n",
       "Name: Edukasaun_Aman, dtype: int64"
      ]
     },
     "execution_count": 35,
     "metadata": {},
     "output_type": "execute_result"
    }
   ],
   "source": [
    "df['Edukasaun_Aman'].value_counts()"
   ]
  },
  {
   "cell_type": "code",
   "execution_count": 36,
   "metadata": {
    "colab": {
     "base_uri": "https://localhost:8080/"
    },
    "id": "tzGTWtnwksao",
    "outputId": "60dceb92-a0c2-4475-cc11-afd678979ce8"
   },
   "outputs": [
    {
     "data": {
      "text/plain": [
       "1    15\n",
       "4    11\n",
       "3     9\n",
       "6     9\n",
       "2     7\n",
       "0     7\n",
       "5     2\n",
       "Name: Edukasaun_Aman, dtype: int64"
      ]
     },
     "execution_count": 36,
     "metadata": {},
     "output_type": "execute_result"
    }
   ],
   "source": [
    "df_mod['Edukasaun_Aman'].value_counts()"
   ]
  },
  {
   "cell_type": "code",
   "execution_count": 37,
   "metadata": {
    "colab": {
     "base_uri": "https://localhost:8080/"
    },
    "id": "7h1xXRJGkuKo",
    "outputId": "2702ec50-884f-421a-ccc9-fca29fc88bac"
   },
   "outputs": [
    {
     "data": {
      "text/plain": [
       "dc       45\n",
       "fun       7\n",
       "prof      4\n",
       "seluk     3\n",
       "agri      1\n",
       "Name: Profisaun_Inan, dtype: int64"
      ]
     },
     "execution_count": 37,
     "metadata": {},
     "output_type": "execute_result"
    }
   ],
   "source": [
    "df['Profisaun_Inan'].value_counts()"
   ]
  },
  {
   "cell_type": "code",
   "execution_count": 38,
   "metadata": {
    "colab": {
     "base_uri": "https://localhost:8080/"
    },
    "id": "VaZE1nLGkxVI",
    "outputId": "dbcd5a64-7eeb-4d58-b1cc-45630322c60a"
   },
   "outputs": [
    {
     "data": {
      "text/plain": [
       "1    45\n",
       "2     7\n",
       "3     4\n",
       "4     3\n",
       "0     1\n",
       "Name: Profisaun_Inan, dtype: int64"
      ]
     },
     "execution_count": 38,
     "metadata": {},
     "output_type": "execute_result"
    }
   ],
   "source": [
    "df_mod['Profisaun_Inan'].value_counts()"
   ]
  },
  {
   "cell_type": "code",
   "execution_count": 39,
   "metadata": {
    "colab": {
     "base_uri": "https://localhost:8080/"
    },
    "id": "5bb8ASTck3mo",
    "outputId": "e4ce09a0-227b-421d-b4f5-149a44702e2d"
   },
   "outputs": [
    {
     "data": {
      "text/plain": [
       "agri     28\n",
       "fun      15\n",
       "prof     10\n",
       "seluk     6\n",
       "med       1\n",
       "Name: Profisaun_Aman, dtype: int64"
      ]
     },
     "execution_count": 39,
     "metadata": {},
     "output_type": "execute_result"
    }
   ],
   "source": [
    "df['Profisaun_Aman'].value_counts()"
   ]
  },
  {
   "cell_type": "code",
   "execution_count": 40,
   "metadata": {
    "colab": {
     "base_uri": "https://localhost:8080/"
    },
    "id": "I1B9uktjk5n3",
    "outputId": "dca3c9a4-0f67-4565-bcf8-db8e6e17148a"
   },
   "outputs": [
    {
     "data": {
      "text/plain": [
       "0    28\n",
       "1    15\n",
       "3    10\n",
       "4     6\n",
       "2     1\n",
       "Name: Profisaun_Aman, dtype: int64"
      ]
     },
     "execution_count": 40,
     "metadata": {},
     "output_type": "execute_result"
    }
   ],
   "source": [
    "df_mod['Profisaun_Aman'].value_counts()"
   ]
  },
  {
   "cell_type": "code",
   "execution_count": 41,
   "metadata": {
    "colab": {
     "base_uri": "https://localhost:8080/"
    },
    "id": "52-cUl88lNRQ",
    "outputId": "75f33978-3d70-4cd9-8850-03d247102cb3"
   },
   "outputs": [
    {
     "data": {
      "text/plain": [
       "laiha    38\n",
       "iha      22\n",
       "Name: Aktividade_Extra, dtype: int64"
      ]
     },
     "execution_count": 41,
     "metadata": {},
     "output_type": "execute_result"
    }
   ],
   "source": [
    "df['Aktividade_Extra'].value_counts()"
   ]
  },
  {
   "cell_type": "code",
   "execution_count": 42,
   "metadata": {
    "colab": {
     "base_uri": "https://localhost:8080/"
    },
    "id": "iSYElZXpkmM9",
    "outputId": "5760231f-5716-4fc4-b26d-8c128273540f"
   },
   "outputs": [
    {
     "data": {
      "text/plain": [
       "1    38\n",
       "0    22\n",
       "Name: Aktividade_Extra, dtype: int64"
      ]
     },
     "execution_count": 42,
     "metadata": {},
     "output_type": "execute_result"
    }
   ],
   "source": [
    "df_mod['Aktividade_Extra'].value_counts()"
   ]
  },
  {
   "cell_type": "code",
   "execution_count": 43,
   "metadata": {
    "colab": {
     "base_uri": "https://localhost:8080/"
    },
    "id": "ZRQrc2r1lkON",
    "outputId": "b3bcf2c5-0bc8-4c65-dc61-15a7df8ffbf3"
   },
   "outputs": [
    {
     "data": {
      "text/plain": [
       "motor     30\n",
       "tp        29\n",
       "kareta     1\n",
       "Name: Transporte, dtype: int64"
      ]
     },
     "execution_count": 43,
     "metadata": {},
     "output_type": "execute_result"
    }
   ],
   "source": [
    "df['Transporte'].value_counts()"
   ]
  },
  {
   "cell_type": "code",
   "execution_count": 44,
   "metadata": {
    "colab": {
     "base_uri": "https://localhost:8080/"
    },
    "id": "iODjDjdDloXN",
    "outputId": "387eb253-7304-49b7-8338-29341aa6db92"
   },
   "outputs": [
    {
     "data": {
      "text/plain": [
       "1    30\n",
       "2    29\n",
       "0     1\n",
       "Name: Transporte, dtype: int64"
      ]
     },
     "execution_count": 44,
     "metadata": {},
     "output_type": "execute_result"
    }
   ],
   "source": [
    "df_mod['Transporte'].value_counts()"
   ]
  },
  {
   "cell_type": "code",
   "execution_count": 45,
   "metadata": {
    "colab": {
     "base_uri": "https://localhost:8080/"
    },
    "id": "MUVVl5solsEu",
    "outputId": "1ced9cc0-db50-4135-b9ad-4a01653f983c"
   },
   "outputs": [
    {
     "data": {
      "text/plain": [
       "iha      51\n",
       "laiha     9\n",
       "Name: Laptop, dtype: int64"
      ]
     },
     "execution_count": 45,
     "metadata": {},
     "output_type": "execute_result"
    }
   ],
   "source": [
    "df['Laptop'].value_counts()"
   ]
  },
  {
   "cell_type": "code",
   "execution_count": 46,
   "metadata": {
    "colab": {
     "base_uri": "https://localhost:8080/"
    },
    "id": "-_NyYR34lvyt",
    "outputId": "84a64dca-e73b-40bf-83d4-3d6e493bbde0"
   },
   "outputs": [
    {
     "data": {
      "text/plain": [
       "0    51\n",
       "1     9\n",
       "Name: Laptop, dtype: int64"
      ]
     },
     "execution_count": 46,
     "metadata": {},
     "output_type": "execute_result"
    }
   ],
   "source": [
    "df_mod['Laptop'].value_counts() \t\t\t\t"
   ]
  },
  {
   "cell_type": "code",
   "execution_count": 47,
   "metadata": {
    "colab": {
     "base_uri": "https://localhost:8080/"
    },
    "id": "pYDDZNXsl7sd",
    "outputId": "4f72a284-cd1c-45a9-970e-f989a285bc55"
   },
   "outputs": [
    {
     "data": {
      "text/plain": [
       "ladun_diak    42\n",
       "diak          18\n",
       "Name: Rede_Internet, dtype: int64"
      ]
     },
     "execution_count": 47,
     "metadata": {},
     "output_type": "execute_result"
    }
   ],
   "source": [
    "df['Rede_Internet'].value_counts()"
   ]
  },
  {
   "cell_type": "code",
   "execution_count": 48,
   "metadata": {
    "colab": {
     "base_uri": "https://localhost:8080/"
    },
    "id": "QbtrE_7vmASO",
    "outputId": "73b95f1a-df15-4994-faa4-b8eb52bb03bf"
   },
   "outputs": [
    {
     "data": {
      "text/plain": [
       "1    42\n",
       "0    18\n",
       "Name: Rede_Internet, dtype: int64"
      ]
     },
     "execution_count": 48,
     "metadata": {},
     "output_type": "execute_result"
    }
   ],
   "source": [
    "df_mod['Rede_Internet'].value_counts()"
   ]
  },
  {
   "cell_type": "code",
   "execution_count": 49,
   "metadata": {
    "colab": {
     "base_uri": "https://localhost:8080/"
    },
    "id": "3FwaTTOLmEU0",
    "outputId": "2fafbb43-34f8-4bb8-c0b2-20b2723806ca"
   },
   "outputs": [
    {
     "data": {
      "text/plain": [
       "iha      48\n",
       "laiha    12\n",
       "Name: Fatin_estuda, dtype: int64"
      ]
     },
     "execution_count": 49,
     "metadata": {},
     "output_type": "execute_result"
    }
   ],
   "source": [
    "df['Fatin_estuda'].value_counts()"
   ]
  },
  {
   "cell_type": "code",
   "execution_count": 50,
   "metadata": {
    "colab": {
     "base_uri": "https://localhost:8080/"
    },
    "id": "2ePqR0nSmIIE",
    "outputId": "535a9a80-f30e-475c-aee5-199b1329ee2b"
   },
   "outputs": [
    {
     "data": {
      "text/plain": [
       "0    48\n",
       "1    12\n",
       "Name: Fatin_estuda, dtype: int64"
      ]
     },
     "execution_count": 50,
     "metadata": {},
     "output_type": "execute_result"
    }
   ],
   "source": [
    "df_mod['Fatin_estuda'].value_counts()"
   ]
  },
  {
   "cell_type": "code",
   "execution_count": 51,
   "metadata": {
    "colab": {
     "base_uri": "https://localhost:8080/"
    },
    "id": "MkxWWs_RmRGV",
    "outputId": "c552f031-1976-486d-ec46-3c962e2818f7"
   },
   "outputs": [
    {
     "data": {
      "text/plain": [
       "baibain        29\n",
       "ajuda_tebes    28\n",
       "ladun_ajuda     3\n",
       "Name: Ambiente, dtype: int64"
      ]
     },
     "execution_count": 51,
     "metadata": {},
     "output_type": "execute_result"
    }
   ],
   "source": [
    "df['Ambiente'].value_counts()"
   ]
  },
  {
   "cell_type": "code",
   "execution_count": 52,
   "metadata": {
    "colab": {
     "base_uri": "https://localhost:8080/"
    },
    "id": "UzXmv0yMqMSj",
    "outputId": "e7e46923-f1dd-4adf-daf6-01022a7ce17f"
   },
   "outputs": [
    {
     "data": {
      "text/plain": [
       "1    29\n",
       "0    28\n",
       "2     3\n",
       "Name: Ambiente, dtype: int64"
      ]
     },
     "execution_count": 52,
     "metadata": {},
     "output_type": "execute_result"
    }
   ],
   "source": [
    "df_mod['Ambiente'].value_counts()"
   ]
  },
  {
   "cell_type": "code",
   "execution_count": 53,
   "metadata": {
    "colab": {
     "base_uri": "https://localhost:8080/"
    },
    "id": "AeS29q6DmVrM",
    "outputId": "d8ca1c08-4c7e-45f7-95fc-d86536ac2a59"
   },
   "outputs": [
    {
     "data": {
      "text/plain": [
       "inan_aman        27\n",
       "mesak            13\n",
       "maun_bin         10\n",
       "tio_tian          6\n",
       "familia_seluk     4\n",
       "Name: Akompanha, dtype: int64"
      ]
     },
     "execution_count": 53,
     "metadata": {},
     "output_type": "execute_result"
    }
   ],
   "source": [
    "df['Akompanha'].value_counts()"
   ]
  },
  {
   "cell_type": "code",
   "execution_count": 54,
   "metadata": {
    "colab": {
     "base_uri": "https://localhost:8080/"
    },
    "id": "JXTIs4cKmZQz",
    "outputId": "fb6fbe94-3888-4f17-9771-7fe83968d498"
   },
   "outputs": [
    {
     "data": {
      "text/plain": [
       "1    27\n",
       "3    13\n",
       "2    10\n",
       "4     6\n",
       "0     4\n",
       "Name: Akompanha, dtype: int64"
      ]
     },
     "execution_count": 54,
     "metadata": {},
     "output_type": "execute_result"
    }
   ],
   "source": [
    "df_mod['Akompanha'].value_counts()"
   ]
  },
  {
   "cell_type": "code",
   "execution_count": 55,
   "metadata": {
    "colab": {
     "base_uri": "https://localhost:8080/"
    },
    "id": "6eUqEDpomam7",
    "outputId": "e183de0e-27bd-4cc3-9903-93ad67536c52"
   },
   "outputs": [
    {
     "data": {
      "text/plain": [
       "uma_rasik                34\n",
       "familia_sira_nian_uma    14\n",
       "aluga_kos                12\n",
       "Name: Hela_Iha, dtype: int64"
      ]
     },
     "execution_count": 55,
     "metadata": {},
     "output_type": "execute_result"
    }
   ],
   "source": [
    "df['Hela_Iha'].value_counts()"
   ]
  },
  {
   "cell_type": "code",
   "execution_count": 56,
   "metadata": {
    "colab": {
     "base_uri": "https://localhost:8080/"
    },
    "id": "ZaYAaQromdqN",
    "outputId": "da89fcfa-4fa8-40bc-c600-dc1aff70d2f1"
   },
   "outputs": [
    {
     "data": {
      "text/plain": [
       "2    34\n",
       "1    14\n",
       "0    12\n",
       "Name: Hela_Iha, dtype: int64"
      ]
     },
     "execution_count": 56,
     "metadata": {},
     "output_type": "execute_result"
    }
   ],
   "source": [
    "df_mod['Hela_Iha'].value_counts()"
   ]
  },
  {
   "cell_type": "markdown",
   "metadata": {
    "id": "NiEswPBTsu6Z"
   },
   "source": [
    "Fo sai Correlation entre Dadus Sira"
   ]
  },
  {
   "cell_type": "code",
   "execution_count": 57,
   "metadata": {
    "colab": {
     "base_uri": "https://localhost:8080/",
     "height": 420
    },
    "id": "Q49rUzBinbqP",
    "outputId": "53d6a8b5-584d-4dd6-b697-9bf5adf2c8e0"
   },
   "outputs": [
    {
     "data": {
      "text/plain": [
       "<AxesSubplot:>"
      ]
     },
     "execution_count": 57,
     "metadata": {},
     "output_type": "execute_result"
    },
    {
     "data": {
      "image/png": "[encoded data removed]",
      "text/plain": [
       "<Figure size 1152x360 with 2 Axes>"
      ]
     },
     "metadata": {
      "needs_background": "light"
     },
     "output_type": "display_data"
    }
   ],
   "source": [
    "df_mod['NRE'] = df_mod['NRE'].astype('category')\n",
    "correlation_matrix = df_mod.corr().round(2) \n",
    "# annot = True atu fo sai value sira iha tabela laran\n",
    "plt.figure(figsize = (16,5))\n",
    "sns.heatmap(data=correlation_matrix, annot=True, fmt=\".1f\", linewidth=.5,)"
   ]
  },
  {
   "cell_type": "code",
   "execution_count": 58,
   "metadata": {
    "id": "BAt3iSj0ISWl"
   },
   "outputs": [],
   "source": [
    "# df.to_csv(\"Survey_Estudante_Finished.csv\", index = False) dadus ne'ebe fill ona missing values\n",
    "df_mod.to_csv(\"Survey_Estudante_Finished_enc.csv\", index = False)"
   ]
  }
 ],
 "metadata": {
  "colab": {
   "provenance": []
  },
  "kernelspec": {
   "display_name": "Python 3 (ipykernel)",
   "language": "python",
   "name": "python3"
  },
  "language_info": {
   "codemirror_mode": {
    "name": "ipython",
    "version": 3
   },
   "file_extension": ".py",
   "mimetype": "text/x-python",
   "name": "python",
   "nbconvert_exporter": "python",
   "pygments_lexer": "ipython3",
   "version": "3.9.7"
  }
 },
 "nbformat": 4,
 "nbformat_minor": 1
}
